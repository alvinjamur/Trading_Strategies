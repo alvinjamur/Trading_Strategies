{
 "cells": [
  {
   "cell_type": "code",
   "execution_count": 8,
   "metadata": {
    "collapsed": true
   },
   "outputs": [],
   "source": [
    "import pandas as pd\n",
    "import numpy as np\n",
    "%matplotlib inline"
   ]
  },
  {
   "cell_type": "code",
   "execution_count": 2,
   "metadata": {
    "collapsed": true
   },
   "outputs": [],
   "source": [
    "\n",
    "\n",
    "import tushare as ts\n",
    "ts.set_token('20353207bd1bb251c0512ffa4a4fc28de0f6bf16bbdb41c89cb2b4ab8c458551')"
   ]
  },
  {
   "cell_type": "markdown",
   "metadata": {},
   "source": [
    "下载上海和深圳两地交易所指数\n"
   ]
  },
  {
   "cell_type": "code",
   "execution_count": 6,
   "metadata": {
    "collapsed": false
   },
   "outputs": [],
   "source": [
    "data_sh = ts.get_hist_data('sh', start='2000-01-01', ktype='D')\n",
    "data_sz = ts.get_hist_data('sz', start='2000-01-01', ktype='D')"
   ]
  },
  {
   "cell_type": "code",
   "execution_count": 12,
   "metadata": {
    "collapsed": false
   },
   "outputs": [],
   "source": [
    "fd = ts.Market()\n",
    "fd.MktIdxd(indexID='000001', )"
   ]
  },
  {
   "cell_type": "code",
   "execution_count": 14,
   "metadata": {
    "collapsed": false
   },
   "outputs": [
    {
     "name": "stdout",
     "output_type": "stream",
     "text": [
      "Help on method MktIdxd in module tushare.datayes.market:\n",
      "\n",
      "MktIdxd(indexID='', ticker='', tradeDate='', beginDate='', endDate='', field='') method of tushare.datayes.market.Market instance\n",
      "    获取指数日线行情信息，包含昨收价、开盘价、最高价、最低价、收盘价、成交量、成交金额等字段，默认日期区间是过去1年，其中沪深指数行情每日15:30更新。\n",
      "\n"
     ]
    }
   ],
   "source": [
    "help(fd.MktIdxd)"
   ]
  },
  {
   "cell_type": "code",
   "execution_count": null,
   "metadata": {
    "collapsed": true
   },
   "outputs": [],
   "source": []
  }
 ],
 "metadata": {
  "kernelspec": {
   "display_name": "Python 3",
   "language": "python",
   "name": "python3"
  },
  "language_info": {
   "codemirror_mode": {
    "name": "ipython",
    "version": 3
   },
   "file_extension": ".py",
   "mimetype": "text/x-python",
   "name": "python",
   "nbconvert_exporter": "python",
   "pygments_lexer": "ipython3",
   "version": "3.4.3"
  }
 },
 "nbformat": 4,
 "nbformat_minor": 0
}
