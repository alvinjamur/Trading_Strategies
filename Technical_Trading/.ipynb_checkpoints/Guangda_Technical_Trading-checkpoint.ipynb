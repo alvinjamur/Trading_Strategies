{
 "cells": [
  {
   "cell_type": "code",
   "execution_count": 3,
   "metadata": {
    "collapsed": true
   },
   "outputs": [],
   "source": [
    "import pandas as pd\n",
    "import numpy as np \n",
    "import time\n",
    "from datetime import datetime\n",
    "import math\n",
    "from math import log\n",
    "import scipy\n",
    "import sys\n",
    "from string import punctuation\n",
    "from scipy import sparse\n",
    "import matplotlib.pyplot as plt\n",
    "from itertools import combinations\n",
    "import operator\n",
    "import talib\n",
    "from talib.abstract import *\n",
    "import pyfolio as pf\n",
    "%matplotlib inline"
   ]
  },
  {
   "cell_type": "markdown",
   "metadata": {},
   "source": [
    "## 准备测试数据"
   ]
  },
  {
   "cell_type": "code",
   "execution_count": 9,
   "metadata": {
    "collapsed": false
   },
   "outputs": [],
   "source": [
    "### Load Data\n",
    "### Reading 沪深300指数\n",
    "data = pd.read_csv('../../data/hs300.csv', index_col='date', parse_dates=True)\n",
    "data.vol = data.vol.astype(float)\n",
    "start = pd.Timestamp('2005-09-01')\n",
    "end = pd.Timestamp('2012-03-15')\n",
    "data = data[start:end]"
   ]
  },
  {
   "cell_type": "code",
   "execution_count": 10,
   "metadata": {
    "collapsed": true
   },
   "outputs": [],
   "source": [
    "### convert trading signal to trading position and returns\n",
    "def Backtest(data, signal):\n",
    "    data_bt = data.ix[:,:5]\n",
    "    data_bt['pred'] = signal\n",
    "    data_bt.index = data_bt.index.tz_localize('UTC')\n",
    "    positions = np.zeros(len(data_bt))\n",
    "    returns = np.zeros(len(data_bt))\n",
    "    trading_cost = 0\n",
    "    for i in range(len(data_bt)-1):\n",
    "        if data_bt['pred'][i] == 1:\n",
    "            positions[i] = 1\n",
    "            returns[i] = (data_bt['close'][i+1]*(1-trading_cost)-data_bt['close'][i]*(1+trading_cost))/data_bt['close'][i]\n",
    "        elif data_bt['pred'][i] == -1:\n",
    "            positions[i] = -1\n",
    "            returns[i] = (data_bt['close'][i]*(1-trading_cost)-data_bt['close'][i+1]*(1+trading_cost))/data_bt['close'][i]   \n",
    "       \n",
    "    returns = pd.Series(returns,index = data_bt.index)  \n",
    "    \n",
    "    return returns   "
   ]
  },
  {
   "cell_type": "markdown",
   "metadata": {},
   "source": [
    "### 技术指标系列（一） － KDJ优化指标"
   ]
  },
  {
   "cell_type": "code",
   "execution_count": 4,
   "metadata": {
    "collapsed": true
   },
   "outputs": [],
   "source": [
    "def KDJ(data, n = 14, m = 3, l = 3, s = 3): \n",
    "    \"\"\"\n",
    "    data: original data with open,high,low,close,vol，amount\n",
    "    \n",
    "    \"\"\"\n",
    "    def kdj(HLC, n = 14, m = 3, l = 3, s = 3) :\n",
    "        C = HLC['close'] # Close price\n",
    "        L = HLC['low']\n",
    "        H = HLC['high']\n",
    "    \n",
    "        L_n = pd.rolling_min(L, n)\n",
    "        H_n = pd.rolling_max(H, n)\n",
    "        RSV_n = (C - L_n)/(H_n - L_n) * 100\n",
    "        K = talib.EMA(np.array(RSV_n), m)\n",
    "        D = talib.EMA(np.array(K), l)\n",
    "        J = s*D - (s-1)*K\n",
    "        \n",
    "        return K, D, J#, RSV_n, signal\n",
    "    \n",
    "    \n",
    "    data['k'],data['d'],data['j'] = kdj(data,n,m,l,s)\n",
    "    signal = pd.DataFrame(index=data.index) \n",
    "    \n",
    "    #strategy 1\n",
    "    \"\"\"\n",
    "    当K上穿30时或者上穿70，买入，信号为1\n",
    "    当K下穿70时或者下穿30，卖空，信号为-1\n",
    "    \"\"\"\n",
    "    signal['1'] = (((data['k'] >30) & (data['k'].shift(1) <30)) | ((data['k'] >70) & (data['k'].shift(1) <70)))*1+(((data['k'] <30) & (data['k'].shift(1) >30)) | ((data['k'] <70) & (data['k'].shift(1) >70)))*(-1)\n",
    "    signal['1'] = signal['1'][signal['1'].isin([1,-1])].reindex(data.index, method='ffill')    \n",
    "    #strategy 2\n",
    "    \"\"\"\n",
    "    当K上穿30时，买入，信号为1\n",
    "    当K下穿70时，卖空，信号为-1\n",
    "    当信号为1且K在70以下，K，D产生死叉，反向做空，信号改为-1\n",
    "    当信号为-1且K在30以上，K，D产生金叉，反向做多，信号改为1\n",
    "    当K大于70时，信号恒为1\n",
    "    \"\"\"\n",
    "    signal['2'] = ((data['k'] >30) & (data['k'].shift(1) <30)) *1+((data['k'] <70) & (data['k'].shift(1) >70))*(-1)\n",
    "    signal['2'] = signal['2'][signal['2'].isin([1,-1])].reindex(data.index, method='ffill')    \n",
    "    \n",
    "    #K,D金叉死叉\n",
    "    kd = (data.k>data.d)*1\n",
    "    uc_kd = ((kd == 1) & (kd.shift(1) == 0))*1\n",
    "    dc_kd = ((kd == 0) & (kd.shift(1) == 1))*1\n",
    "    \n",
    "    signal['2'] = ((signal['2'] == 1) & (data['k'] < 70) & (uc_kd == 1))*(-2)+ \\\n",
    "                  ((signal['2'] == -1) & (data['k'] > 30) & (dc_kd == 1))*(2) + \\\n",
    "                  signal['2']\n",
    "    signal['2'][data['k'] > 70] = 1\n",
    "        \n",
    "    signal = signal.fillna(0)\n",
    "    return signal\n",
    "  "
   ]
  },
  {
   "cell_type": "code",
   "execution_count": null,
   "metadata": {
    "collapsed": true
   },
   "outputs": [],
   "source": [
    "signal = KDJ(data)\n",
    "returns = Backtest(data,signal['1'])\n",
    "pf.create_returns_tear_sheet(returns)"
   ]
  },
  {
   "cell_type": "markdown",
   "metadata": {},
   "source": [
    "### 技术指标系列（二）——ADX平均趋向指标"
   ]
  },
  {
   "cell_type": "code",
   "execution_count": null,
   "metadata": {
    "collapsed": true
   },
   "outputs": [],
   "source": [
    "def ADX(data, n = 14):\n",
    "    \"\"\"\n",
    "    data: original data with open,high,low,close,vol\n",
    "    n: timeperiod\n",
    "    \"\"\"\n",
    "    \n",
    "    data['adx'] = talib.ADX(np.array(data.high),np.array(data.low),np.array(data.close),n)#Average Directional Movement Index (Momentum Indicators)\n",
    "    data['mdi'] = talib.MINUS_DI(np.array(data.high),np.array(data.low),np.array(data.close),n)\n",
    "    data['pdi'] = talib.PLUS_DI(np.array(data.high),np.array(data.low),np.array(data.close),n)\n",
    "    signal = pd.DataFrame(index=data.index)\n",
    "    \n",
    "    #strategy 1\n",
    "    \"\"\"\n",
    "    当+DI上穿-DI，买入，信号为1\n",
    "    当+DI下穿-DI，卖空，信号为-1\n",
    "    \"\"\"\n",
    "    signal['1'] = (data['pdi']>data['mdi'])*1 + (data['pdi']<=data['mdi'])*(-1)\n",
    "    \n",
    "    return signal"
   ]
  },
  {
   "cell_type": "code",
   "execution_count": null,
   "metadata": {
    "collapsed": true
   },
   "outputs": [],
   "source": [
    "signal = ADX(data)\n",
    "returns = Backtest(data,signal)\n",
    "pf.create_returns_tear_sheet(returns)"
   ]
  },
  {
   "cell_type": "markdown",
   "metadata": {},
   "source": [
    "### 技术指标系列（三）——加入“二次确认”的AROON 阿隆优化指标"
   ]
  },
  {
   "cell_type": "code",
   "execution_count": 6,
   "metadata": {
    "collapsed": true
   },
   "outputs": [],
   "source": [
    "def AROON(data,d=15,up = 50,down= -50, up_up=70 ,down_down = 50):\n",
    "    \"\"\"\n",
    "    data: original data with open,high,low,close,vol\n",
    "    d: days for calculation\n",
    "    up and down: threshold for aroon\n",
    "    up_up and down_down: threshold for aroon_up and aroon_down\n",
    "    \"\"\"\n",
    "    \n",
    "    data['aroon_dn'],data['aroon_up'] = talib.AROON(np.array(data.high),np.array(data.low),d)\n",
    "    data['aroon'] = data['aroon_up']-data['aroon_dn']\n",
    "    signal = pd.DataFrame(index=data.index)\n",
    "    \n",
    "    #strategy 1\n",
    "    \"\"\"\n",
    "    当 AROON_UP 上穿70，并且AROON>0，买入，信号为1\n",
    "    当AROON_DN 上穿70，并且AROON<0，卖空，信号为-1\n",
    "    当AROON_UP 下穿50，并且AROON<0，卖空，信号为-1\n",
    "    当AROON_DN 下穿50，并且AROON>0，买入，信号为1\n",
    "    参数为20\n",
    "    \"\"\"\n",
    "    signal['1'] = ((data['aroon']>0)&\\\n",
    "                  (((data['aroon_up']>70)&(data['aroon_up'].shift(1)<70))|\n",
    "                  ((data['aroon_up']<50)&(data['aroon_up'].shift(1)>50))))*1+ \\\n",
    "                  ((data['aroon']<0)&(((data['aroon_up']>70)&(data['aroon_up'].shift(1)<70))|\n",
    "                  ((data['aroon_up']<50)&(data['aroon_up'].shift(1)>50))))*(-1)\n",
    "    \n",
    "    #strategy 2\n",
    "    \"\"\"\n",
    "    AROON 上穿50，买入，信号为1\n",
    "    AROON 下穿-50，卖空，信号为-1\n",
    "    测得的最优参数为15\n",
    "    \n",
    "    for i in range(len(data)):\n",
    "        if data['aroon'][i]>up:\n",
    "            if data['aroon_up'][i]>up_up or data['aroon_dn'][i]<down_down:\n",
    "                data['pred'][i] = 1\n",
    "        \n",
    "        elif data['aroon'][i]<down:\n",
    "            if data['aroon_dn'][i]>up_up or data['aroon_up'][i]<down_down:\n",
    "                data['pred'][i] = -1\n",
    "    \"\"\"            \n",
    "    return signal\n",
    "   "
   ]
  },
  {
   "cell_type": "code",
   "execution_count": null,
   "metadata": {
    "collapsed": true
   },
   "outputs": [],
   "source": []
  }
 ],
 "metadata": {
  "kernelspec": {
   "display_name": "Python 3",
   "language": "python",
   "name": "python3"
  },
  "language_info": {
   "codemirror_mode": {
    "name": "ipython",
    "version": 3
   },
   "file_extension": ".py",
   "mimetype": "text/x-python",
   "name": "python",
   "nbconvert_exporter": "python",
   "pygments_lexer": "ipython3",
   "version": "3.4.3"
  }
 },
 "nbformat": 4,
 "nbformat_minor": 0
}
