{
 "cells": [
  {
   "cell_type": "code",
   "execution_count": 4,
   "metadata": {
    "collapsed": true
   },
   "outputs": [],
   "source": [
    "import h5py\n",
    "import numpy as np\n",
    "\n",
    "import sys\n",
    "sys.path.append('..')"
   ]
  },
  {
   "cell_type": "code",
   "execution_count": 2,
   "metadata": {
    "collapsed": true
   },
   "outputs": [],
   "source": [
    "f = h5py.File('test.hdf5', 'w')"
   ]
  },
  {
   "cell_type": "code",
   "execution_count": 9,
   "metadata": {
    "collapsed": false
   },
   "outputs": [],
   "source": [
    "from Data.StockDataManager import * \n",
    "settings = Settings()"
   ]
  },
  {
   "cell_type": "code",
   "execution_count": 10,
   "metadata": {
    "collapsed": false
   },
   "outputs": [
    {
     "data": {
      "text/plain": [
       "'RAW_Equity_Market'"
      ]
     },
     "execution_count": 10,
     "metadata": {},
     "output_type": "execute_result"
    }
   ],
   "source": [
    "settings.MONGO_COLL_Rawdata_Equity_Market"
   ]
  },
  {
   "cell_type": "code",
   "execution_count": null,
   "metadata": {
    "collapsed": true
   },
   "outputs": [],
   "source": [
    "tl_price = self._settings.get_mysql_table(self._settings._table_price)\n",
    "        if end is None:\n",
    "            end = str(datetime.date.today())\n",
    "\n",
    "        query = select([tl_price]). \\\n",
    "            where(tl_price.c.code.in_(codes)).  \\\n",
    "            where(tl_price.c.date >= start). \\\n",
    "            where(tl_price.c.date <= end)\n",
    "        data = pd.read_sql(query, self._settings.get_mysql_engine())\n",
    "        data.set_index('date', inplace=True)\n",
    "\n",
    "\n",
    "\n",
    "        ### reorder the dataframe\n",
    "        ### using a dict as a container. Each field will be a separate dataframe stored in the dict.\n",
    "        ### the key will be the field name\n",
    "        di_data = dict()\n",
    "        for field in fields :\n",
    "            df_field = pd.DataFrame()\n",
    "            for code in codes:\n",
    "                df_one = data[data['code'] == code]\n",
    "                df_two = df_one[[field]]\n",
    "                df_two.columns = [code]\n",
    "                df_field = df_field.join(df_two, how='outer')\n",
    "            di_data[field] = df_field\n",
    "\n",
    "        return di_data"
   ]
  }
 ],
 "metadata": {
  "kernelspec": {
   "display_name": "Python 2",
   "language": "python",
   "name": "python2"
  },
  "language_info": {
   "codemirror_mode": {
    "name": "ipython",
    "version": 2
   },
   "file_extension": ".py",
   "mimetype": "text/x-python",
   "name": "python",
   "nbconvert_exporter": "python",
   "pygments_lexer": "ipython2",
   "version": "2.7.11"
  }
 },
 "nbformat": 4,
 "nbformat_minor": 0
}
