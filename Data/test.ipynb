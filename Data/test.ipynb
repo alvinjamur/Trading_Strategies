{
 "cells": [
  {
   "cell_type": "code",
   "execution_count": 2,
   "metadata": {},
   "outputs": [],
   "source": [
    "from Data import DBManager\n",
    "from Data import StockManager\n",
    "\n",
    "### Test the connection\n",
    "db = DBManager.Manager()\n",
    "sm = StockManager.StockManager()\n",
    "hostname = \"188.166.179.144\"\n",
    "mysql_uri = db.set_mysql_conn(hostname, \"darwin\", \"darwinlab\", \"darwindb\")"
   ]
  },
  {
   "cell_type": "code",
   "execution_count": 4,
   "metadata": {},
   "outputs": [],
   "source": [
    "codes = sm.get_all_stock_codes(mysql_uri)"
   ]
  },
  {
   "cell_type": "code",
   "execution_count": 6,
   "metadata": {},
   "outputs": [],
   "source": [
    "mongo_db = DBManager.Manager().get_default_mongo_conn()\n",
    "\n"
   ]
  },
  {
   "cell_type": "code",
   "execution_count": 1,
   "metadata": {},
   "outputs": [
    {
     "ename": "NameError",
     "evalue": "name 'mysql_uri' is not defined",
     "output_type": "error",
     "traceback": [
      "\u001b[0;31m---------------------------------------------------------------------------\u001b[0m",
      "\u001b[0;31mNameError\u001b[0m                                 Traceback (most recent call last)",
      "\u001b[0;32m<ipython-input-1-16cd120573fe>\u001b[0m in \u001b[0;36m<module>\u001b[0;34m()\u001b[0m\n\u001b[1;32m      3\u001b[0m \u001b[0mget_ipython\u001b[0m\u001b[0;34m(\u001b[0m\u001b[0;34m)\u001b[0m\u001b[0;34m.\u001b[0m\u001b[0mmagic\u001b[0m\u001b[0;34m(\u001b[0m\u001b[0;34mu'matplotlib inline'\u001b[0m\u001b[0;34m)\u001b[0m\u001b[0;34m\u001b[0m\u001b[0m\n\u001b[1;32m      4\u001b[0m \u001b[0;34m\u001b[0m\u001b[0m\n\u001b[0;32m----> 5\u001b[0;31m \u001b[0mstock_price_uri\u001b[0m \u001b[0;34m=\u001b[0m \u001b[0mmysql_uri\u001b[0m \u001b[0;34m+\u001b[0m \u001b[0;34m\"::Stock_Price_Daily_tmp\"\u001b[0m\u001b[0;34m\u001b[0m\u001b[0m\n\u001b[0m\u001b[1;32m      6\u001b[0m \u001b[0mbl_stock_price\u001b[0m \u001b[0;34m=\u001b[0m \u001b[0mblaze\u001b[0m\u001b[0;34m.\u001b[0m\u001b[0mData\u001b[0m\u001b[0;34m(\u001b[0m\u001b[0mstock_price_uri\u001b[0m\u001b[0;34m)\u001b[0m\u001b[0;34m\u001b[0m\u001b[0m\n\u001b[1;32m      7\u001b[0m \u001b[0mcodes\u001b[0m \u001b[0;34m=\u001b[0m\u001b[0;34m[\u001b[0m\u001b[0;34m'000001'\u001b[0m\u001b[0;34m,\u001b[0m \u001b[0;34m'000003'\u001b[0m\u001b[0;34m,\u001b[0m \u001b[0;34m'000004'\u001b[0m\u001b[0;34m]\u001b[0m\u001b[0;34m\u001b[0m\u001b[0m\n",
      "\u001b[0;31mNameError\u001b[0m: name 'mysql_uri' is not defined"
     ]
    }
   ],
   "source": [
    "import pandas as pd\n",
    "import odo\n",
    "%matplotlib inline\n",
    "\n",
    "stock_price_uri = mysql_uri + \"::Stock_Price_Daily_tmp\"\n",
    "bl_stock_price = blaze.Data(stock_price_uri)\n",
    "codes =['000001', '000003', '000004']\n",
    "\n",
    "df_stock_prices = pd.DataFrame()\n",
    "for code in codes :\n",
    "    print \"loading \" + code\n",
    "    a = bl_stock_price[bl_stock_price['code'] == code]\n",
    "    a = a[['date', 'close']]\n",
    "    \n",
    "    prices = odo.odo(a, pd.DataFrame)\n",
    "    prices.head()\n",
    "    prices.columns = ['date', code]\n",
    "    #df_stock_prices = df_stock_prices.join(prices, how='outer')"
   ]
  },
  {
   "cell_type": "code",
   "execution_count": 39,
   "metadata": {},
   "outputs": [],
   "source": [
    "prices.head()"
   ]
  }
 ],
 "metadata": {},
 "nbformat": 4,
 "nbformat_minor": 0
}