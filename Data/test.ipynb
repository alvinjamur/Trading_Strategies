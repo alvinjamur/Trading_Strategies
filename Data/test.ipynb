{
 "cells": [
  {
   "cell_type": "code",
   "execution_count": 1,
   "metadata": {},
   "outputs": [],
   "source": [
    "from Data import DBManager\n",
    "from Data import StockManager\n",
    "\n",
    "### Test the connection\n",
    "db = DBManager.dbManager()\n",
    "hostname = \"188.166.179.144\"\n",
    "mysql_uri = db.set_mysql_conn(hostname, \"darwin\", \"darwinlab\", \"darwindb\")\n",
    "\n",
    "\n",
    "stock_mgr = StockManager.StockManager(mysql_uri)\n",
    "var = stock_mgr.download_stock_info()"
   ]
  },
  {
   "cell_type": "code",
   "execution_count": 2,
   "metadata": {},
   "outputs": [
    {
     "name": "stdout",
     "output_type": "stream",
     "text": [
      "count(_1.code)\n"
     ]
    }
   ],
   "source": [
    "import blaze\n",
    "\n",
    "stock_info_uri = mysql_uri + \"::Stock_Info\"\n",
    "bl_stock_info = blaze.Data(stock_info_uri)\n",
    "print bl_stock_info.code.count()"
   ]
  },
  {
   "cell_type": "code",
   "execution_count": 16,
   "metadata": {},
   "outputs": [],
   "source": [
    "import tushare as ts\n",
    "data = ts.get_h_data('000001')"
   ]
  },
  {
   "cell_type": "code",
   "execution_count": 6,
   "metadata": {},
   "outputs": [],
   "source": [
    "import pandas as pd\n",
    "import odo\n",
    "%matplotlib inline\n",
    "\n",
    "stock_price_uri = mysql_uri + \"::Stock_Price_Daily_tmp\"\n",
    "bl_stock_price = blaze.Data(stock_price_uri)\n",
    "codes =['000001', '000003', '000004']\n",
    "\n",
    "df_stock_prices = pd.DataFrame()\n",
    "for code in codes :\n",
    "    print \"loading \" + code\n",
    "    a = bl_stock_price[bl_stock_price['code'] == code]\n",
    "    a = a[['date', 'close']]\n",
    "    \n",
    "    prices = odo.odo(a, pd.DataFrame)\n",
    "    prices.head()\n",
    "    prices.columns = ['date', code]\n",
    "    #df_stock_prices = df_stock_prices.join(prices, how='outer')"
   ]
  },
  {
   "cell_type": "code",
   "execution_count": 39,
   "metadata": {},
   "outputs": [],
   "source": [
    "prices"
   ]
  }
 ],
 "metadata": {},
 "nbformat": 4,
 "nbformat_minor": 0
}