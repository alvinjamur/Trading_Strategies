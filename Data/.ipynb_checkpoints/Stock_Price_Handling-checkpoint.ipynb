{
 "cells": [
  {
   "cell_type": "code",
   "execution_count": null,
   "metadata": {
    "collapsed": false
   },
   "outputs": [],
   "source": [
    "def remove_firstline(oldfile) :\n",
    "    with open(oldfile,'r') as f:\n",
    "        newfile = oldfile + '.1'\n",
    "        print(newfile)\n",
    "        with open(newfile,'a') as f1:\n",
    "            f.next() # skip header line\n",
    "            for line in f:\n",
    "                f1.write(line)\n",
    "            f1.close()"
   ]
  },
  {
   "cell_type": "code",
   "execution_count": null,
   "metadata": {
    "collapsed": false
   },
   "outputs": [],
   "source": [
    "### handling the stock/index csv data\n",
    "import glob, os\n",
    "\n",
    "def handle_index_data() :\n",
    "    os.chdir(\"/home/jianbo/Data/index_data\")\n",
    "    for file in glob.glob(\"*.csv\"):\n",
    "        print(file)\n",
    "        remove_firstline(file)\n",
    "        os.remove(file)\n",
    "\n",
    "def handle_stock_data() :\n",
    "    os.chdir(\"/home/jianbo/Data/stock_data\")\n",
    "    for file in glob.glob(\"*.csv\"):\n",
    "        print(file)\n",
    "        remove_firstline(file)\n",
    "        os.remove(file)"
   ]
  },
  {
   "cell_type": "markdown",
   "metadata": {},
   "source": [
    "## 1. Database Manager\n"
   ]
  },
  {
   "cell_type": "code",
   "execution_count": 49,
   "metadata": {
    "collapsed": true
   },
   "outputs": [],
   "source": [
    "import csv\n",
    "import glob, os\n",
    "#import MySQLdb\n",
    "import pymongo\n",
    "import blaze\n",
    "\n",
    "class dbManager :\n",
    "    \n",
    "    def __init__(self) :\n",
    "        self.mysql_db = None\n",
    "        self.mongo_db = None\n",
    "\n",
    "    def get_mysql_conn(self, hostname, username, password, db) :\n",
    "        # init DB\n",
    "        mysql_uri = \"mysql+mysqlconnector://\" + username + \":\" + password + \"@\" + hostname + \":3306/\" + db\n",
    "        print mysql_uri\n",
    "        self.mysql_db = blaze.Data(mysql_uri)\n",
    "        return self.mysql_db\n",
    "\n",
    "    def get_mongo_conn(self, mongo_host, mongo_port) :\n",
    "        try :\n",
    "            mongo_db = pymongo.MongoClient(mongo_host, mongo_port)\n",
    "            print 'success'\n",
    "        except :\n",
    "            print 'failed'\n",
    "        return mongo_db\n",
    "    \n",
    "    \n",
    "    \n",
    "### Test the connection\n",
    "hostname = \"188.166.179.144\"   \n",
    "mongo_port = 27017\n",
    "db = dbManager()\n",
    "\n",
    "mysql_db = db.get_mysql_conn(hostname, \"darwin\", \"darwinlab\", \"darwindb\")\n"
   ]
  },
  {
   "cell_type": "code",
   "execution_count": 52,
   "metadata": {
    "collapsed": false,
    "scrolled": false
   },
   "outputs": [
    {
     "data": {
      "text/html": [
       "<table border=\"1\" class=\"dataframe\">\n",
       "  <thead>\n",
       "    <tr style=\"text-align: right;\">\n",
       "      <th></th>\n",
       "      <th>code</th>\n",
       "      <th>date</th>\n",
       "      <th>open</th>\n",
       "      <th>high</th>\n",
       "      <th>low</th>\n",
       "      <th>close</th>\n",
       "      <th>volume</th>\n",
       "      <th>amount</th>\n",
       "    </tr>\n",
       "  </thead>\n",
       "  <tbody>\n",
       "  </tbody>\n",
       "</table>"
      ],
      "text/plain": [
       "Empty DataFrame\n",
       "Columns: [code, date, open, high, low, close, volume, amount]\n",
       "Index: []"
      ]
     },
     "execution_count": 52,
     "metadata": {},
     "output_type": "execute_result"
    }
   ],
   "source": [
    "mysql_db.Stock_Price_Daily"
   ]
  },
  {
   "cell_type": "code",
   "execution_count": 51,
   "metadata": {
    "collapsed": false
   },
   "outputs": [
    {
     "data": {
      "text/plain": [
       "blaze.interactive.InteractiveSymbol"
      ]
     },
     "execution_count": 51,
     "metadata": {},
     "output_type": "execute_result"
    }
   ],
   "source": [
    "type(mysql_db)"
   ]
  },
  {
   "cell_type": "code",
   "execution_count": 2,
   "metadata": {
    "collapsed": false
   },
   "outputs": [
    {
     "name": "stdout",
     "output_type": "stream",
     "text": [
      "success\n"
     ]
    }
   ],
   "source": [
    "mgdb = get_mongo_conn()"
   ]
  },
  {
   "cell_type": "code",
   "execution_count": 3,
   "metadata": {
    "collapsed": false,
    "scrolled": false
   },
   "outputs": [],
   "source": [
    "def load_dailyprice_mysql() :\n",
    "    # init DB\n",
    "    mydb = get_mysql_conn()\n",
    "    cursor = mydb.cursor()\n",
    "\n",
    "    # change the directory to stock data\n",
    "    os.chdir('/home/jianbo/Data/stock_data')\n",
    "    for stock_file in glob.glob('*.csv') :\n",
    "        csv_data = csv.reader(file(stock_file))\n",
    "        print \"loading file \" + stock_file\n",
    "        count = 0\n",
    "\n",
    "        for row in csv_data:\n",
    "            if count == 0:\n",
    "                count = count + 1\n",
    "                continue\n",
    "            try:\n",
    "                cursor.execute('INSERT INTO Stock_Price_Daily(code,date,open,high,low,close, price_change,volume,money,traded_market_value,market_value, turnover,adjust_price,report_type,report_date,PE_TTM,PS_TTM,PC_TTM,PB) VALUES (%s, %s, %s, %s, %s, %s, %s, %s, %s, %s, %s, %s, %s, %s, %s, %s, %s, %s, %s)', row)\n",
    "                mydb.commit()\n",
    "            except:\n",
    "                mydb.rollback()\n",
    "        os.remove(stock_file)\n",
    "\n",
    "\n",
    "    # close the connection\n",
    "    mydb.close()\n",
    "                       "
   ]
  },
  {
   "cell_type": "markdown",
   "metadata": {},
   "source": [
    "# Import Stock Fundamental Information"
   ]
  }
 ],
 "metadata": {
  "kernelspec": {
   "display_name": "Python 2",
   "language": "python",
   "name": "python2"
  },
  "language_info": {
   "codemirror_mode": {
    "name": "ipython",
    "version": 2
   },
   "file_extension": ".py",
   "mimetype": "text/x-python",
   "name": "python",
   "nbconvert_exporter": "python",
   "pygments_lexer": "ipython2",
   "version": "2.7.11"
  }
 },
 "nbformat": 4,
 "nbformat_minor": 0
}
