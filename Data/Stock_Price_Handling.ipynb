{
 "cells": [
  {
   "cell_type": "code",
   "execution_count": null,
   "metadata": {
    "collapsed": false
   },
   "outputs": [],
   "source": [
    "def remove_firstline(oldfile) :\n",
    "    with open(oldfile,'r') as f:\n",
    "        newfile = oldfile + '.1'\n",
    "        print(newfile)\n",
    "        with open(newfile,'a') as f1:\n",
    "            f.next() # skip header line\n",
    "            for line in f:\n",
    "                f1.write(line)\n",
    "            f1.close()"
   ]
  },
  {
   "cell_type": "code",
   "execution_count": null,
   "metadata": {
    "collapsed": false
   },
   "outputs": [],
   "source": [
    "### handling the stock/index csv data\n",
    "import glob, os\n",
    "\n",
    "def handle_index_data() :\n",
    "    os.chdir(\"/home/jianbo/Data/index_data\")\n",
    "    for file in glob.glob(\"*.csv\"):\n",
    "        print(file)\n",
    "        remove_firstline(file)\n",
    "        os.remove(file)\n",
    "\n",
    "def handle_stock_data() :\n",
    "    os.chdir(\"/home/jianbo/Data/stock_data\")\n",
    "    for file in glob.glob(\"*.csv\"):\n",
    "        print(file)\n",
    "        remove_firstline(file)\n",
    "        os.remove(file)"
   ]
  },
  {
   "cell_type": "markdown",
   "metadata": {},
   "source": [
    "# Import historical price data into database"
   ]
  },
  {
   "cell_type": "code",
   "execution_count": 1,
   "metadata": {
    "collapsed": false,
    "scrolled": true
   },
   "outputs": [],
   "source": [
    "import csv\n",
    "import MySQLdb\n",
    "import glob, os\n",
    "import pymongo\n",
    "\n",
    "def get_mysql_conn() :\n",
    "    # init DB\n",
    "    mydb = MySQLdb.connect(host='localhost',\n",
    "        user='root',\n",
    "        passwd='eth@2002',\n",
    "        db='darwin')\n",
    "    return mydb\n",
    "\n",
    "def get_mongo_conn() :\n",
    "    try :\n",
    "        mgdb = pymongo.MongoClient('localhost', 27017)\n",
    "        print 'success'\n",
    "    except :\n",
    "        print 'failed'\n",
    "    return mgdb\n",
    "    "
   ]
  },
  {
   "cell_type": "code",
   "execution_count": 2,
   "metadata": {
    "collapsed": false
   },
   "outputs": [
    {
     "name": "stdout",
     "output_type": "stream",
     "text": [
      "success\n"
     ]
    }
   ],
   "source": [
    "mgdb = get_mongo_conn()"
   ]
  },
  {
   "cell_type": "code",
   "execution_count": 3,
   "metadata": {
    "collapsed": false,
    "scrolled": false
   },
   "outputs": [],
   "source": [
    "def load_dailyprice_mysql() :\n",
    "    # init DB\n",
    "    mydb = get_mysql_conn()\n",
    "    cursor = mydb.cursor()\n",
    "\n",
    "    # change the directory to stock data\n",
    "    os.chdir('/home/jianbo/Data/stock_data')\n",
    "    for stock_file in glob.glob('*.csv') :\n",
    "        csv_data = csv.reader(file(stock_file))\n",
    "        print \"loading file \" + stock_file\n",
    "        count = 0\n",
    "\n",
    "        for row in csv_data:\n",
    "            if count == 0:\n",
    "                count = count + 1\n",
    "                continue\n",
    "            try:\n",
    "                cursor.execute('INSERT INTO Stock_Price_Daily(code,date,open,high,low,close, price_change,volume,money,traded_market_value,market_value, turnover,adjust_price,report_type,report_date,PE_TTM,PS_TTM,PC_TTM,PB) VALUES (%s, %s, %s, %s, %s, %s, %s, %s, %s, %s, %s, %s, %s, %s, %s, %s, %s, %s, %s)', row)\n",
    "                mydb.commit()\n",
    "            except:\n",
    "                mydb.rollback()\n",
    "        os.remove(stock_file)\n",
    "\n",
    "\n",
    "    # close the connection\n",
    "    mydb.close()\n",
    "                       "
   ]
  },
  {
   "cell_type": "markdown",
   "metadata": {},
   "source": [
    "# Import Stock Fundamental Information"
   ]
  }
 ],
 "metadata": {
  "kernelspec": {
   "display_name": "Python 2",
   "language": "python",
   "name": "python2"
  },
  "language_info": {
   "codemirror_mode": {
    "name": "ipython",
    "version": 2
   },
   "file_extension": ".py",
   "mimetype": "text/x-python",
   "name": "python",
   "nbconvert_exporter": "python",
   "pygments_lexer": "ipython2",
   "version": "2.7.11"
  }
 },
 "nbformat": 4,
 "nbformat_minor": 0
}
