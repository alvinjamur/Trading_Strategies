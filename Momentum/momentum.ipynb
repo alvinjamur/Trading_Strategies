{
 "cells": [
  {
   "cell_type": "code",
   "execution_count": 2,
   "metadata": {},
   "outputs": [],
   "source": [
    "#from pandas.io.data import DataReader\n",
    "import pandas as pd\n",
    "import numpy as np \n",
    "#import xgboost as xgb\n",
    "import sklearn as sk\n",
    "import sklearn.linear_model as lm\n",
    "from sklearn.feature_extraction import DictVectorizer\n",
    "from sklearn.cross_validation   import StratifiedKFold\n",
    "import time\n",
    "from datetime import datetime\n",
    "import math\n",
    "from math import log\n",
    "from sklearn import metrics,preprocessing,cross_validation\n",
    "from sklearn.feature_extraction.text import TfidfVectorizer\n",
    "from time import gmtime, strftime\n",
    "import scipy\n",
    "import sys\n",
    "import sklearn.decomposition\n",
    "from sklearn.metrics import mean_squared_error,f1_score,precision_score,recall_score,roc_auc_score,accuracy_score\n",
    "from string import punctuation\n",
    "from sklearn.neighbors import RadiusNeighborsRegressor, KNeighborsRegressor\n",
    "import time\n",
    "from scipy import sparse\n",
    "import matplotlib.pyplot as plt\n",
    "from itertools import combinations\n",
    "from sklearn.ensemble import GradientBoostingClassifier, RandomForestClassifier, ExtraTreesClassifier\n",
    "import operator\n",
    "from sklearn import svm\n",
    "from ggplot import *\n",
    "#\n",
    "#from pyalgotrade import dataseries\n",
    "#from pyalgotrade.technical import macd\n",
    "#from pyalgotrade.technical import ma\n",
    "#from pyalgotrade.technical import rsi\n",
    "#from pyalgotrade.technical import cross\n",
    "\n",
    "import talib\n",
    "from talib.abstract import *\n",
    "import pyfolio as pf\n",
    "#from zipline.transforms.ta import EMA\n",
    "import zipline as zl\n",
    "from zipline.algorithm import TradingAlgorithm\n",
    "import tushare as ts"
   ]
  },
  {
   "cell_type": "code",
   "execution_count": 6,
   "metadata": {},
   "outputs": [],
   "source": [
    "%matplotlib inline"
   ]
  },
  {
   "cell_type": "markdown",
   "metadata": {},
   "source": [
    "### 读取数据"
   ]
  },
  {
   "cell_type": "code",
   "execution_count": 60,
   "metadata": {},
   "outputs": [
    {
     "name": "stderr",
     "output_type": "stream",
     "text": [
      "/Applications/anaconda/lib/python3.4/site-packages/ipykernel/__main__.py:24: SettingWithCopyWarning: \n",
      "A value is trying to be set on a copy of a slice from a DataFrame\n",
      "\n",
      "See the the caveats in the documentation: http://pandas.pydata.org/pandas-docs/stable/indexing.html#indexing-view-versus-copy\n"
     ]
    }
   ],
   "source": [
    "#%%original data\n",
    "N = 6\n",
    "data = pd.read_csv('/Users/jianboxue/Documents/Research_Projects/Momentum/index_shanghai.csv',index_col = 'date',parse_dates = 'date')\n",
    "\n",
    "#features owned by the day for predicting(include open)\n",
    "data['month'] = data.index.month\n",
    "data['week'] = data.index.week\n",
    "data['weekofyear'] = data.index.weekofyear\n",
    "data['day'] = data.index.day\n",
    "data['dayofweek'] = data.index.dayofweek\n",
    "data['dayofyear'] = data.index.dayofyear\n",
    "\n",
    "donchian_channel_max = np.array([max(data['high'][max(i,20)-20:max(i,20)]) for i in range(len(data))])#the highest price in last n days\n",
    "donchian_channel_min = np.array([min(data['low'][max(i,20)-20:max(i,20)]) for i in range(len(data))])\n",
    "data['dcmaxod'] = (data['open']-donchian_channel_max)/donchian_channel_max\n",
    "data['dcminod'] = (data['open']-donchian_channel_min)/donchian_channel_min\n",
    "\n",
    "num_all = data.shape[1]\n",
    "\n",
    "\n",
    "#features owned only by previous data(include close,high,low,vol)\n",
    "data['price_change'] = (data['close']-data['open']) /data['open']\n",
    "data['vol_change'] = 0\n",
    "data['vol_change'][1:] = (data['vol'][1:].values-data['vol'][:-1].values) /data['vol'][:-1].values\n",
    "data['ibs'] = (data['close']-data['low']) /(data['high']-data['low'])\n",
    "\n",
    "data['dcmaxcd'] = (data['close']-donchian_channel_max)/donchian_channel_max\n",
    "data['dcmincd'] = (data['close']-donchian_channel_min)/donchian_channel_min\n",
    "\n",
    "#data['macd'] = MACD(data).macd\n",
    "#data['macdsignal'] = MACD(data).macdsignal\n",
    "#data['macdhist'] = MACD(data).macdhist\n",
    "\n",
    "data['%R'] = (np.array([max(data['high'][max(i,14)-14:max(i,14)]) for i in range(len(data))])-data.close.values)/((np.array([max(data['high'][max(i,14)-14:max(i,14)]) for i in range(len(data))])-np.array([min(data['low'][max(i,14)-14:max(i,14)]) for i in range(len(data))])))#Williams %R is a momentum indicator The default setting for Williams %R is 14 periods, which can be days, weeks, months or an intraday timeframe."
   ]
  },
  {
   "cell_type": "markdown",
   "metadata": {},
   "source": [
    "Y is the target series to predict"
   ]
  },
  {
   "cell_type": "code",
   "execution_count": 100,
   "metadata": {},
   "outputs": [],
   "source": [
    "y = [1 if data['close'][i]>data['open'][i] else 0 for i in range(len(data))]\n",
    "y = y[N-1:]\n",
    "\n",
    "n_windows = data.shape[0]-N+1\n",
    "windows = range(n_windows)"
   ]
  },
  {
   "cell_type": "code",
   "execution_count": 63,
   "metadata": {},
   "outputs": [],
   "source": [
    "#%% features of open,high,low,close,vol\n",
    "d = np.array(data.ix[:,:5])\n",
    "d = np.array([d[w:w+N].ravel() for w in windows])\n",
    "\n",
    "#generated features for all days that can be used in training\n",
    "d_na = np.array(data.ix[:,5:num_all])\n",
    "d_na = np.array([d_na[w:w+N].ravel() for w in windows])\n",
    "\n",
    "d_n = np.array(data.ix[:,num_all:])\n",
    "d_n = np.array([d_n[w:w+N-1].ravel() for w in windows])\n",
    "\n",
    "nday = 1500\n",
    "\n",
    "d = d[len(data)- nday:]\n",
    "d_na = d_na[len(data)- nday:]\n",
    "d_n = d_n[len(data)- nday:]\n",
    "y = np.array(y[len(data)- nday:])"
   ]
  },
  {
   "cell_type": "code",
   "execution_count": 101,
   "metadata": {},
   "outputs": [
    {
     "ename": "ValueError",
     "evalue": "all the input array dimensions except for the concatenation axis must match exactly",
     "output_type": "error",
     "traceback": [
      "\u001b[0;31m---------------------------------------------------------------------------\u001b[0m",
      "\u001b[0;31mValueError\u001b[0m                                Traceback (most recent call last)",
      "\u001b[0;32m<ipython-input-101-8ad5839660a1>\u001b[0m in \u001b[0;36m<module>\u001b[0;34m()\u001b[0m\n\u001b[1;32m     20\u001b[0m     \u001b[0;32mreturn\u001b[0m \u001b[0mstocks_dat\u001b[0m\u001b[0;34m\u001b[0m\u001b[0m\n\u001b[1;32m     21\u001b[0m \u001b[0;31m#%%\u001b[0m\u001b[0;34m\u001b[0m\u001b[0;34m\u001b[0m\u001b[0m\n\u001b[0;32m---> 22\u001b[0;31m \u001b[0md_normalized\u001b[0m \u001b[0;34m=\u001b[0m \u001b[0mpd\u001b[0m\u001b[0;34m.\u001b[0m\u001b[0mDataFrame\u001b[0m\u001b[0;34m(\u001b[0m\u001b[0mnp\u001b[0m\u001b[0;34m.\u001b[0m\u001b[0mhstack\u001b[0m\u001b[0;34m(\u001b[0m\u001b[0;34m(\u001b[0m\u001b[0mnp\u001b[0m\u001b[0;34m.\u001b[0m\u001b[0marray\u001b[0m\u001b[0;34m(\u001b[0m\u001b[0;34m[\u001b[0m\u001b[0mnormalizeNday\u001b[0m\u001b[0;34m(\u001b[0m\u001b[0mw\u001b[0m\u001b[0;34m,\u001b[0m\u001b[0mN\u001b[0m\u001b[0;34m)\u001b[0m \u001b[0;32mfor\u001b[0m \u001b[0mw\u001b[0m \u001b[0;32min\u001b[0m \u001b[0md\u001b[0m\u001b[0;34m]\u001b[0m\u001b[0;34m)\u001b[0m\u001b[0;34m,\u001b[0m\u001b[0md_n\u001b[0m\u001b[0;34m,\u001b[0m\u001b[0md_na\u001b[0m\u001b[0;34m)\u001b[0m\u001b[0;34m)\u001b[0m\u001b[0;34m)\u001b[0m\u001b[0;34m\u001b[0m\u001b[0m\n\u001b[0m\u001b[1;32m     23\u001b[0m \u001b[0;34m\u001b[0m\u001b[0m\n\u001b[1;32m     24\u001b[0m \u001b[0;31m#remove constants\u001b[0m\u001b[0;34m\u001b[0m\u001b[0;34m\u001b[0m\u001b[0m\n",
      "\u001b[0;32m/Applications/anaconda/lib/python3.4/site-packages/numpy/core/shape_base.py\u001b[0m in \u001b[0;36mhstack\u001b[0;34m(tup)\u001b[0m\n\u001b[1;32m    275\u001b[0m         \u001b[0;32mreturn\u001b[0m \u001b[0m_nx\u001b[0m\u001b[0;34m.\u001b[0m\u001b[0mconcatenate\u001b[0m\u001b[0;34m(\u001b[0m\u001b[0marrs\u001b[0m\u001b[0;34m,\u001b[0m \u001b[0;36m0\u001b[0m\u001b[0;34m)\u001b[0m\u001b[0;34m\u001b[0m\u001b[0m\n\u001b[1;32m    276\u001b[0m     \u001b[0;32melse\u001b[0m\u001b[0;34m:\u001b[0m\u001b[0;34m\u001b[0m\u001b[0m\n\u001b[0;32m--> 277\u001b[0;31m         \u001b[0;32mreturn\u001b[0m \u001b[0m_nx\u001b[0m\u001b[0;34m.\u001b[0m\u001b[0mconcatenate\u001b[0m\u001b[0;34m(\u001b[0m\u001b[0marrs\u001b[0m\u001b[0;34m,\u001b[0m \u001b[0;36m1\u001b[0m\u001b[0;34m)\u001b[0m\u001b[0;34m\u001b[0m\u001b[0m\n\u001b[0m",
      "\u001b[0;31mValueError\u001b[0m: all the input array dimensions except for the concatenation axis must match exactly"
     ]
    }
   ],
   "source": [
    "#%%\n",
    "\n",
    "def normalizeNday(stocks,N):\n",
    "    def process_column(i):\n",
    "        #Replaces all high/low/vol data with 0, and divides all stock data by the opening price on the first day\n",
    "        if operator.mod(i, 5) == 1:\n",
    "            return stocks[i] * 0\n",
    "        if operator.mod(i, 5) == 2:\n",
    "            return stocks[i] * 0\n",
    "        if operator.mod(i, 5) == 4:\n",
    "            return stocks[i] * 0\n",
    "            #return np.log(stocks[:,i] + 1)\n",
    "        else:\n",
    "            return stocks[i] / stocks[0]\n",
    "    #n = stocks.shape[0]\n",
    "    stocks_dat =  np.array([ process_column(i) for i in range(N*5-4)]).transpose()\n",
    "    #stocks_movingavgO9O10 = np.array([int(i > j) for i,j in zip(stocks_dat[:,45], stocks_dat[:,40])]).reshape((n, 1))\n",
    "    #stocks_movingavgC9O10 = np.array([int(i > j) for i,j in zip(stocks_dat[:,45], stocks_dat[:,43])]).reshape((n, 1))\n",
    "    #return np.hstack((stocks_dat, stocks_movingavgO9O10, stocks_movingavgC9O10))\n",
    "    return stocks_dat\n",
    "#%%\n",
    "d_normalized = pd.DataFrame(np.hstack((np.array([normalizeNday(w,N) for w in d]),d_n,d_na)))\n",
    "\n",
    "#remove constants\n",
    "nunique = pd.Series([len(d_normalized[col].unique()) for col in d_normalized.columns], index = d_normalized.columns)\n",
    "constants = nunique[nunique<2].index.tolist()    \n",
    "for col in constants:\n",
    "    del d_normalized[col]\n",
    "d_normalized = np.array(d_normalized)\n",
    "\n",
    "train = d_normalized[:int(len(d)*2/3.)]\n",
    "train_y = y[:int(len(d)*2/3.)]\n",
    "test = d_normalized[int(len(d)*2/3.):]\n",
    "test_y = y[int(len(d)*2/3.):]\n",
    "\n",
    "plt.scatter(d[:, (N-1)*5] / d[:, (N-1)*5-2],  d[:, (N-1)*5+3] / d[:, (N-1)*5])\n",
    "plt.xlim((.8,1.2)); plt.ylim((.8,1.2))\n",
    "plt.xlabel(\"Opening N / Closing N-1\"); plt.ylabel(\"Closing N / Opening N-1\")\n",
    "plt.title(\"Correlation between interday and intraday stock movement\")\n",
    "plt.show()"
   ]
  },
  {
   "cell_type": "code",
   "execution_count": 96,
   "metadata": {},
   "outputs": [],
   "source": [
    "d = np.array(data.ix[:,:5])\n",
    "d = np.array([d[w:w+N].ravel() for w in windows])"
   ]
  },
  {
   "cell_type": "code",
   "execution_count": 99,
   "metadata": {},
   "outputs": [
    {
     "ename": "NameError",
     "evalue": "name '_96' is not defined",
     "output_type": "error",
     "traceback": [
      "\u001b[0;31m---------------------------------------------------------------------------\u001b[0m",
      "\u001b[0;31mNameError\u001b[0m                                 Traceback (most recent call last)",
      "\u001b[0;32m<ipython-input-99-752a0820cbe9>\u001b[0m in \u001b[0;36m<module>\u001b[0;34m()\u001b[0m\n\u001b[0;32m----> 1\u001b[0;31m \u001b[0m_96\u001b[0m\u001b[0;34m\u001b[0m\u001b[0m\n\u001b[0m",
      "\u001b[0;31mNameError\u001b[0m: name '_96' is not defined"
     ]
    }
   ],
   "source": [
    "_96"
   ]
  },
  {
   "cell_type": "code",
   "execution_count": 75,
   "metadata": {},
   "outputs": [],
   "source": [
    "%magic"
   ]
  }
 ],
 "metadata": {
  "kernelspec": {
   "display_name": "Python 3",
   "language": "python",
   "name": "python3"
  },
  "language_info": {
   "codemirror_mode": {
    "name": "ipython",
    "version": 3.0
   },
   "file_extension": ".py",
   "mimetype": "text/x-python",
   "name": "python",
   "nbconvert_exporter": "python",
   "pygments_lexer": "ipython3",
   "version": "3.4.3"
  }
 },
 "nbformat": 4,
 "nbformat_minor": 0
}