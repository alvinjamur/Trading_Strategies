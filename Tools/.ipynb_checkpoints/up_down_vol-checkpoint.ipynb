{
 "cells": [
  {
   "cell_type": "code",
   "execution_count": 2,
   "metadata": {},
   "outputs": [],
   "source": [
    "import tushare as ts\n",
    "import pandas as pd\n",
    "import matplotlib\n",
    "import odo\n",
    "\n",
    "%matplotlib inline"
   ]
  },
  {
   "cell_type": "code",
   "execution_count": 18,
   "metadata": {},
   "outputs": [],
   "source": [
    "df_hs = ts.get_hist_data('399300', '2010-01-01', '2015-09-30' )"
   ]
  },
  {
   "cell_type": "code",
   "execution_count": 21,
   "metadata": {},
   "outputs": [
    {
     "name": "stdout",
     "output_type": "stream",
     "text": [
      "[Getting data:]########################"
     ]
    }
   ],
   "source": [
    "aa = ts.get_h_data('000001', '2010-01-01')"
   ]
  },
  {
   "cell_type": "code",
   "execution_count": 24,
   "metadata": {},
   "outputs": [
    {
     "data": {
      "text/html": [
       "<div>\n",
       "<table border=\"1\" class=\"dataframe\">\n",
       "  <thead>\n",
       "    <tr style=\"text-align: right;\">\n",
       "      <th></th>\n",
       "      <th>open</th>\n",
       "      <th>high</th>\n",
       "      <th>close</th>\n",
       "      <th>low</th>\n",
       "      <th>volume</th>\n",
       "      <th>amount</th>\n",
       "    </tr>\n",
       "    <tr>\n",
       "      <th>date</th>\n",
       "      <th></th>\n",
       "      <th></th>\n",
       "      <th></th>\n",
       "      <th></th>\n",
       "      <th></th>\n",
       "      <th></th>\n",
       "    </tr>\n",
       "  </thead>\n",
       "  <tbody>\n",
       "    <tr>\n",
       "      <th>2010-01-08</th>\n",
       "      <td>9.87</td>\n",
       "      <td>9.97</td>\n",
       "      <td>9.91</td>\n",
       "      <td>9.80</td>\n",
       "      <td>28854306</td>\n",
       "      <td>650667392</td>\n",
       "    </tr>\n",
       "    <tr>\n",
       "      <th>2010-01-07</th>\n",
       "      <td>10.04</td>\n",
       "      <td>10.11</td>\n",
       "      <td>9.93</td>\n",
       "      <td>9.82</td>\n",
       "      <td>35533684</td>\n",
       "      <td>804166336</td>\n",
       "    </tr>\n",
       "    <tr>\n",
       "      <th>2010-01-06</th>\n",
       "      <td>10.19</td>\n",
       "      <td>10.19</td>\n",
       "      <td>10.04</td>\n",
       "      <td>9.96</td>\n",
       "      <td>41214313</td>\n",
       "      <td>944453697</td>\n",
       "    </tr>\n",
       "    <tr>\n",
       "      <th>2010-01-05</th>\n",
       "      <td>10.41</td>\n",
       "      <td>10.48</td>\n",
       "      <td>10.22</td>\n",
       "      <td>9.97</td>\n",
       "      <td>55649984</td>\n",
       "      <td>1293476992</td>\n",
       "    </tr>\n",
       "    <tr>\n",
       "      <th>2010-01-04</th>\n",
       "      <td>10.75</td>\n",
       "      <td>10.78</td>\n",
       "      <td>10.40</td>\n",
       "      <td>10.38</td>\n",
       "      <td>24192276</td>\n",
       "      <td>580249472</td>\n",
       "    </tr>\n",
       "  </tbody>\n",
       "</table>\n",
       "</div>"
      ]
     },
     "output_type": "execute_result",
     "metadata": {}
    }
   ],
   "source": [
    "2.22 fly in,23m fly out"
   ]
  },
  {
   "cell_type": "code",
   "execution_count": 4,
   "metadata": {},
   "outputs": [],
   "source": [
    "# get google data\n",
    "import pandas.io.data as web\n",
    "import numpy as np\n",
    "goog = web.DataReader('GOOG', data_source='google', start='3/14/2009', end='4/14/2014')"
   ]
  },
  {
   "cell_type": "code",
   "execution_count": 5,
   "metadata": {},
   "outputs": [],
   "source": [
    "goog['log_ret'] = np.log(goog['Close'] / goog['Close'].shift(1))"
   ]
  }
 ],
 "metadata": {
  "kernelspec": {
   "display_name": "Python 2",
   "language": "python",
   "name": "python2"
  },
  "language_info": {
   "codemirror_mode": {
    "name": "ipython",
    "version": 2.0
   },
   "file_extension": ".py",
   "mimetype": "text/x-python",
   "name": "python",
   "nbconvert_exporter": "python",
   "pygments_lexer": "ipython2",
   "version": "2.7.11"
  }
 },
 "nbformat": 4,
 "nbformat_minor": 0
}