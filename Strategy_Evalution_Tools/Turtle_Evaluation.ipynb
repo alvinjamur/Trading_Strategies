{
 "cells": [
  {
   "cell_type": "code",
   "execution_count": 1,
   "metadata": {
    "collapsed": false
   },
   "outputs": [
    {
     "name": "stderr",
     "output_type": "stream",
     "text": [
      "/Applications/anaconda/lib/python3.5/site-packages/sklearn/utils/fixes.py:64: DeprecationWarning: inspect.getargspec() is deprecated, use inspect.signature() instead\n",
      "  if 'order' in inspect.getargspec(np.copy)[0]:\n"
     ]
    }
   ],
   "source": [
    "import pandas as pd\n",
    "import numpy as np\n",
    "import matplotlib.pyplot as plt\n",
    "from scipy import stats\n",
    "from sklearn import linear_model\n",
    "\n",
    "%matplotlib inline"
   ]
  },
  {
   "cell_type": "code",
   "execution_count": 2,
   "metadata": {
    "collapsed": false
   },
   "outputs": [],
   "source": [
    "data = pd.read_csv('../../data/index_shanghai.csv', index_col='date', parse_dates=True)\n",
    "data = data['19950101'::]\n",
    "#data = pd.read_excel('../../data/500ETF_510500_1d_20151028.xlsx', index_col='date', parse_dates=True)\n",
    "\n",
    "#### Return calculation\n",
    "ret_cc = data['close'] / data['close'].shift(1) - 1\n",
    "ret_co = data['close'] / data['open'] - 1\n",
    "ret_oc = data['open'] / data['close'].shift(1) - 1\n",
    "data['cc'] = ret_cc;\n",
    "data['co'] = ret_co;\n",
    "data['oc'] = ret_oc;\n",
    "ret_all = data.ix[:, ('cc', 'co', 'oc')]\n",
    "\n",
    "### cleaning\n",
    "data = data.dropna()\n",
    "ret_all = ret_all.dropna()"
   ]
  },
  {
   "cell_type": "markdown",
   "metadata": {},
   "source": [
    "### 海龟交易法则－稳健投资策略评估方法\n",
    "海龟交易法则书中提到几种评估稳健投资策略的方法：\n",
    "\n",
    "1. RAR － Regressed Annual Return\n",
    "\n",
    "RAR 比CAGR对于一个波动的净值曲线而言， 更能够稳定的测量该曲线的上涨幅度和回报率。 "
   ]
  },
  {
   "cell_type": "code",
   "execution_count": 3,
   "metadata": {
    "collapsed": false
   },
   "outputs": [],
   "source": [
    "def RAR(ret) :\n",
    "    n = ret.count()\n",
    "    nav = (1+ret).cumprod()\n",
    "    cagr = (nav[-1]/nav[0] -1) / n \n",
    "\n",
    "    reg = linear_model.LinearRegression()\n",
    "    X = np.array(range(n), ndmin=2).transpose();\n",
    "    y = np.array(nav.data, ndmin=2).transpose()\n",
    "    reg.fit(X, y)\n",
    "\n",
    "    rar = (reg.predict(X[-1]) / reg.predict(X[0]) -1) / n\n",
    "    rar = np.float64(rar)\n",
    "    \n",
    "    \n",
    "    return cagr, rar, reg\n",
    "\n",
    "def Sharpe(ret, annualized_factor = 365) :\n",
    "    cagr, rar, reg = RAR(ret)\n",
    "    cagr = cagr * annualized_factor\n",
    "    rar = rar * annualized_factor\n",
    "    vol = np.std(ret) * np.sqrt(annualized_factor)\n",
    "    \n",
    "    r_sharpe = rar / vol\n",
    "    sharpe = cagr / vol\n",
    "    return sharpe, r_sharpe\n",
    "\n",
    "\n"
   ]
  },
  {
   "cell_type": "markdown",
   "metadata": {},
   "source": [
    "测试\n"
   ]
  },
  {
   "cell_type": "code",
   "execution_count": 4,
   "metadata": {
    "collapsed": false,
    "scrolled": true
   },
   "outputs": [
    {
     "data": {
      "text/plain": [
       "[<matplotlib.lines.Line2D at 0x1093d0780>]"
      ]
     },
     "execution_count": 4,
     "metadata": {},
     "output_type": "execute_result"
    },
    {
     "data": {
      "image/png": "[encoded data removed]",
      "text/plain": [
       "<matplotlib.figure.Figure at 0x10654f470>"
      ]
     },
     "metadata": {},
     "output_type": "display_data"
    }
   ],
   "source": [
    "ret_test = ret_all['cc']\n",
    "cagr, rar, reg = RAR(ret_test)\n",
    "\n",
    "nav = (1+ret_test).cumprod()\n",
    "X = np.array(range(nav.count()), ndmin=2).transpose();\n",
    "    \n",
    "plt.plot(nav)\n",
    "plt.plot(X, reg.predict(X),color='red',linewidth=4)"
   ]
  },
  {
   "cell_type": "code",
   "execution_count": 21,
   "metadata": {
    "collapsed": false,
    "scrolled": true
   },
   "outputs": [
    {
     "data": {
      "text/plain": [
       "array([[ 0.00070287]])"
      ]
     },
     "execution_count": 21,
     "metadata": {},
     "output_type": "execute_result"
    }
   ],
   "source": [
    "[rar, cagr]\n",
    "sharpe, r_sharpe = Sharpe(ret_test)\n",
    "[sharpe, r_sharpe]\n",
    "reg.coef_"
   ]
  },
  {
   "cell_type": "code",
   "execution_count": 22,
   "metadata": {
    "collapsed": false
   },
   "outputs": [],
   "source": [
    "linear_model.LinearRegression?"
   ]
  },
  {
   "cell_type": "code",
   "execution_count": null,
   "metadata": {
    "collapsed": true
   },
   "outputs": [],
   "source": []
  },
  {
   "cell_type": "code",
   "execution_count": null,
   "metadata": {
    "collapsed": false
   },
   "outputs": [],
   "source": [
    "ret_test = ret_all['cc'][1:500]\n",
    "cagr, rar, reg = RAR(ret_test)\n",
    "\n",
    "nav = (1+ret_test).cumprod()\n",
    "X = np.array(range(nav.count()), ndmin=2).transpose();\n",
    "    \n",
    "plt.plot(nav)\n",
    "plt.plot(X, reg.predict(X),color='red',linewidth=4)"
   ]
  },
  {
   "cell_type": "code",
   "execution_count": null,
   "metadata": {
    "collapsed": false,
    "scrolled": true
   },
   "outputs": [],
   "source": [
    "[rar, cagr]"
   ]
  },
  {
   "cell_type": "code",
   "execution_count": null,
   "metadata": {
    "collapsed": false
   },
   "outputs": [],
   "source": [
    "sharpe, r_sharpe = Sharpe(ret)\n",
    "sharpe1, r_sharpe1 = Sharpe(ret[1:1000])\n",
    "[sharpe, r_sharpe, sharpe1, r_sharpe1]"
   ]
  },
  {
   "cell_type": "markdown",
   "metadata": {},
   "source": [
    "2 稳健风险回报比例（robust risk/reward ratio)"
   ]
  },
  {
   "cell_type": "code",
   "execution_count": null,
   "metadata": {
    "collapsed": false
   },
   "outputs": [],
   "source": [
    "def MDD(ret, N) :\n",
    "    ret = ret_cc.dropna()\n",
    "    ret = ret[100::]\n",
    "    nav = (1+ret).cumprod();\n",
    "    high_wm = nav * 0 #high water mark\n",
    "\n",
    "\n",
    "    for i in range(len(ret)) :\n",
    "        if i == 0:\n",
    "            high_wm[i] = nav[i]\n",
    "        else:\n",
    "            high_wm[i] = nav[i] if nav[i] > high_wm[i-1] else high_wm[i-1]\n",
    "\n",
    "    dd = nav - high_wm ## drawdown curves\n",
    "\n",
    "    ### determine the numbers of the drawdown periods, and their start/end index\n",
    "    start = []\n",
    "    end = []\n",
    "    for j in range(len(dd)) :\n",
    "        if j > 0:\n",
    "            if dd[j] < 0 and dd[j - 1] == 0: \n",
    "                start.append(j);\n",
    "            if dd[j] == 0 and dd[j -1] < 0:\n",
    "                end.append(j);\n",
    "            if dd[j] <0 and j == len(dd) - 1:\n",
    "                end.append(j);\n",
    "\n",
    "    ### drawdown percentage\n",
    "    dd_pct = dd * 0\n",
    "    n_dd = len(start)\n",
    "    for k in range(n_dd):\n",
    "        dd_pct[start[k]:end[k]] = nav[start[k]:end[k]] / nav[start[k]-1] - 1\n",
    "\n",
    "    ###\n",
    "    dd_size = []\n",
    "    dd_duration = []\n",
    "    n_dd = len(start)\n",
    "    for k in range(n_dd):\n",
    "        dd_size.append(min(dd_pct[start[k]:end[k]]))\n",
    "        dd_duration.append(end[k] - start[k])\n",
    "\n",
    "    ### top N largest drawdown\n",
    "    max_dd_size = []\n",
    "    max_dd_duration = []\n",
    "    for l in range(N) :\n",
    "        max_dd = min(dd_size)\n",
    "        index = dd_size.index(max_dd)\n",
    "\n",
    "        max_dd_size.append(dd_size.pop(index))\n",
    "        max_dd_duration.append(dd_duration.pop(index))\n",
    "        \n",
    "    ### output\n",
    "    return max_dd_size, max_dd_duration\n",
    "\n",
    " \n",
    "### length_adjusted_MDD annualize MDD with their average length.\n",
    "### the formula is : Average_Max_DD / Average_DD_Duration * Annulized_factor (365 by default, if days are using)\n",
    "def length_adjusted_MDD(ret, N = 5, annulized_factor = 365) :\n",
    "    max_dd_size, max_dd_duration = MDD(ret, N);\n",
    "    avg_mdd = np.mean(max_dd_size)\n",
    "    avg_mdd_duration = np.mean(max_dd_duration)\n",
    "    \n",
    "    la_MDD = avg_mdd / avg_mdd_duration * annulized_factor\n",
    "    return la_MDD\n",
    "    "
   ]
  },
  {
   "cell_type": "code",
   "execution_count": null,
   "metadata": {
    "collapsed": false
   },
   "outputs": [],
   "source": [
    "def RRR(ret, N = 5, annulized_factor = 365):\n",
    "    cagr, rar, reg= RAR(ret)\n",
    "    rar = rar * annulized_factor\n",
    "\n",
    "    la_mdd = length_adjusted_MDD(ret, N, annulized_factor)\n",
    "    rrr = rar / abs(la_mdd)\n",
    "    return rrr"
   ]
  },
  {
   "cell_type": "markdown",
   "metadata": {},
   "source": [
    "测试"
   ]
  },
  {
   "cell_type": "code",
   "execution_count": null,
   "metadata": {
    "collapsed": false
   },
   "outputs": [],
   "source": [
    "rrr = RRR(ret, 5)\n",
    "rrr1 = RRR(ret, 10)\n",
    "[rrr, rrr1]"
   ]
  }
 ],
 "metadata": {
  "kernelspec": {
   "display_name": "Python 3",
   "language": "python",
   "name": "python3"
  },
  "language_info": {
   "codemirror_mode": {
    "name": "ipython",
    "version": 3
   },
   "file_extension": ".py",
   "mimetype": "text/x-python",
   "name": "python",
   "nbconvert_exporter": "python",
   "pygments_lexer": "ipython3",
   "version": "3.5.0"
  }
 },
 "nbformat": 4,
 "nbformat_minor": 0
}
