{
 "cells": [
  {
   "cell_type": "code",
   "execution_count": 1,
   "metadata": {},
   "outputs": [
    {
     "name": "stderr",
     "output_type": "stream",
     "text": [
      "/Users/jianboxue/anaconda/lib/python2.7/site-packages/pandas/io/data.py:33: FutureWarning: \n",
      "The pandas.io.data module is moved to a separate package (pandas-datareader) and will be removed from pandas in a future version.\n",
      "After installing the pandas-datareader package (https://github.com/pydata/pandas-datareader), you can change the import ``from pandas.io import data, wb`` to ``from pandas_datareader import data, wb``.\n",
      "  FutureWarning)\n"
     ]
    }
   ],
   "source": [
    "import sys, os\n",
    "sys.path.append('..')\n",
    "from Data.TimeSeries import *\n",
    "from ETF.AAA import *\n",
    "\n",
    "from Data import factors\n",
    "import Quandl\n",
    "import pandas as pd\n",
    "import matplotlib\n",
    "\n",
    "import cvxopt as opt\n",
    "from cvxopt import blas, solvers\n",
    "\n",
    "\n",
    "%matplotlib inline"
   ]
  },
  {
   "cell_type": "code",
   "execution_count": 2,
   "metadata": {},
   "outputs": [],
   "source": [
    "sector_tickers = [\n",
    "            'GOOG/NYSEARCA_XLB',\n",
    "            'GOOG/NYSEARCA_XLE', \n",
    "            'GOOG/NYSEARCA_XLF',\n",
    "            'GOOG/NYSEARCA_XLI',\n",
    "            'GOOG/NYSEARCA_XLK',\n",
    "            'GOOG/NYSEARCA_XLP', \n",
    "            'GOOG/NYSEARCA_XLU', \n",
    "            'GOOG/NYSEARCA_XLV', \n",
    "            'GOOG/NYSEARCA_XLY', \n",
    "            'GOOG/NYSE_SPY', \n",
    "            'GOOG/NYSEARCA_TLT'\n",
    "            ]\n",
    "\n",
    "\n",
    "micai_tickers = ['GOOG/NYSE_VWO', \n",
    "                'GOOG/NYSE_VPL', \n",
    "                'GOOG/NYSE_VGK', \n",
    "                'GOOG/NYSE_VTI',\n",
    "                'GOOG/NYSE_BND', #美国债券ETF\n",
    "                'GOOG/AMEX_BWX', #SPDR Barclays Intl Treasury bond etf\n",
    "                'GOOG/NYSEARCA_LQD', #iShares IBoXX & Invest Grade Corp Bond \n",
    "                'GOOG/NYSEARCA_EMB', #iShares JPMorgan Emerging Mkt Bond\n",
    "                'GOOG/NYSE_SPY',\n",
    "                'GOOG/NYSEARCA_TLT']\n",
    "\n",
    "global_tickers = [\n",
    "           #'GOOG/AMEX_EWJ', # iShares MSCI Japan ETF\n",
    "           'GOOG/NYSE_IEV', # iShares Europe ETF\n",
    "           'GOOG/NYSE_VWO', # Vanguard Emerging Market Stock ETF\n",
    "           \n",
    "           #'GOOG/NYSE_VNQ', # Vanguard MSCI US Reits\n",
    "           'GOOG/NYSE_IYR', # iShares U.S. Real Estate ETF\n",
    "           'GOOG/NYSE_RWX', # SPDR DJ Wilshire Intl Real Estate ETF\n",
    "           \n",
    "           'GOOG/NYSEARCA_TLT',  # 20 Years Treasury ETF\n",
    "           'GOOG/NYSEARCA_TLH',  # 15-20 Years Treasury\n",
    "           \n",
    "           'GOOG/AMEX_GSG', # GSCI Commodity-Indexed Trust Fund\n",
    "           'GOOG/NYSEARCA_GLD',  # SPDR Gold ETF\n",
    "           'GOOG/NYSE_SPY']\n",
    "\n",
    "ticker_bm = 'GOOG/NYSEARCA_TLT'\n",
    "ticker_spy = 'GOOG/NYSE_SPY'\n",
    "\n",
    "settings = Settings()\n",
    "dp_sectors = TimeSeries(settings).get_agg_data(sector_tickers)\n",
    "dp_sectors = dp_sectors.fillna(method='pad', axis=0)\n",
    "dp_sectors = dp_sectors.fillna(method='bfill', axis=0)\n",
    "\n",
    "dp_micai = TimeSeries(settings).get_agg_data(micai_tickers)\n",
    "dp_micai = dp_micai.fillna(method='pad', axis=0)\n",
    "dp_micai = dp_micai.fillna(method='bfill', axis=0)\n",
    "\n",
    "dp_global = TimeSeries(settings).get_agg_data(global_tickers)\n",
    "dp_global = dp_global.fillna(method='pad', axis=0)\n",
    "dp_global = dp_global.fillna(method='bfill', axis=0)"
   ]
  },
  {
   "cell_type": "markdown",
   "metadata": {},
   "source": [
    "## 策略1: 利用momentum的方式，确定交易信号"
   ]
  },
  {
   "cell_type": "code",
   "execution_count": null,
   "metadata": {},
   "outputs": [],
   "source": [
    "def ETF_Momentum_Strategy(dp, ticker_bm, ticker_spy) :\n",
    "    #df_prices_m = dp[:, :, 'price'].resample('20d',  label='right', closed='right')\n",
    "    df_prices_m = filtering(dp[:, :, 'price'], 10)\n",
    "    df_rets_m = df_prices_m.pct_change()\n",
    "    \n",
    "    df_str1 = pd.DataFrame()\n",
    "    df_str2 = pd.DataFrame()\n",
    "    df_str3 = pd.DataFrame()\n",
    "    df_str4 = pd.DataFrame()\n",
    "\n",
    "    dp_str = pd.Panel()\n",
    "    dp_str['1'] = pd.DataFrame()\n",
    "    dp_str['2'] = pd.DataFrame()\n",
    "    dp_str['3'] = pd.DataFrame()\n",
    "    dp_str['4'] = pd.DataFrame()\n",
    "    dp_str['5'] = pd.DataFrame()\n",
    "    dp_str['6'] = pd.DataFrame()\n",
    "    dp_str['7'] = pd.DataFrame()\n",
    "\n",
    "\n",
    "    df_str_d = pd.DataFrame()\n",
    "    moving_win = 3\n",
    "    tickers = dp.axes[0]\n",
    "    for t in tickers:\n",
    "        print t\n",
    "        con1 = df_prices_m[t] > pd.rolling_mean(df_prices_m[t], 10)\n",
    "        con2 = pd.rolling_sum(df_rets_m[t], moving_win) > pd.rolling_sum(df_rets_m[ticker_spy], moving_win)\n",
    "        con3 = pd.rolling_sum(df_rets_m[t], 1) > (0.05/6)\n",
    "#         con3 = pd.rolling_sum(df_rets_m[t], moving_win) > pd.rolling_sum(df_rets_m[ticker_bm], moving_win)\n",
    "\n",
    "        con4 = con1 & con3\n",
    "        con5 = con2 & con3\n",
    "        con6 = con1 & con2\n",
    "        con7 = con1 & con2 & con3\n",
    "\n",
    "        dp_str['1'][t] = con1.shift(1) * df_rets_m[t]\n",
    "        dp_str['2'][t] = con2.shift(1) * df_rets_m[t] \n",
    "        dp_str['3'][t] = con3.shift(1) * df_rets_m[t]\n",
    "        dp_str['4'][t] = con4.shift(1) * df_rets_m[t] #dp['2'][t] + (1-con5*1).shift(1) * df_rets_m[ticker_bm]\n",
    "        dp_str['5'][t] = con5.shift(1) * df_rets_m[t]\n",
    "        dp_str['6'][t] = con6.shift(1) * df_rets_m[t]\n",
    "        dp_str['7'][t] = con7.shift(1) * df_rets_m[t]\n",
    "\n",
    "    #(1+df_str1).cumprod().plot(figsize=[20,12])\n",
    "    df_avg = pd.DataFrame()\n",
    "    df_count1 = ((dp_str['1'] <>0).shift(1)*1).sum(axis=1)\n",
    "    df_count1[df_count1 == 0] = 1\n",
    "    df_count2 = ((dp_str['2'] <>0).shift(1)*1).sum(axis=1)\n",
    "    df_count2[df_count2 == 0] = 1\n",
    "    df_count3 = ((dp_str['3'] <>0).shift(1)*1).sum(axis=1)\n",
    "    df_count3[df_count3 == 0] = 1\n",
    "    df_count4 = ((dp_str['4'] <>0).shift(1)*1).sum(axis=1)\n",
    "    df_count4[df_count4 == 0] = 1\n",
    "    df_count5 = ((dp_str['5'] <>0).shift(1)*1).sum(axis=1)\n",
    "    df_count5[df_count5 == 0] = 1\n",
    "    df_count6 = ((dp_str['6'] <>0).shift(1)*1).sum(axis=1)\n",
    "    df_count6[df_count6 == 0] = 1\n",
    "    df_count7 = ((dp_str['7'] <>0).shift(1)*1).sum(axis=1)\n",
    "    df_count7[df_count7 == 0] = 1\n",
    "    \n",
    "    df_avg['1'] = dp_str['1'].sum(axis=1)  / df_count1.shift(1)\n",
    "    df_avg['2'] = dp_str['2'].sum(axis=1)  / df_count2.shift(1)\n",
    "    df_avg['3'] = dp_str['3'].sum(axis=1)  / df_count3.shift(1)\n",
    "    df_avg['1_3'] = dp_str['4'].sum(axis=1)  / df_count4.shift(1)\n",
    "    df_avg['2_3'] = dp_str['5'].sum(axis=1)  / df_count5.shift(1)\n",
    "    df_avg['1_2'] = dp_str['6'].sum(axis=1)  / df_count6.shift(1)\n",
    "    df_avg['total'] = dp_str['7'].sum(axis=1)  / df_count7.shift(1)\n",
    "    df_avg['spy'] = df_rets_m[ticker_spy]\n",
    "    return df_avg\n",
    "\n",
    "\n",
    "class Momentum(AAA) :\n",
    "    def initialize(self, context):\n",
    "        add_history(200, '1d', 'price')\n",
    "        set_slippage(slippage.FixedSlippage(spread=0.0))\n",
    "        set_commission(commission.PerShare(cost=0.01, min_trade_cost=1.0))\n",
    "        context.tick = 0\n",
    "\n",
    "    def handle_data(self, context, data):\n",
    "        rebalance_period = 20\n",
    "        context.tick += 1\n",
    "        \n",
    "        if context.tick < 200 :\n",
    "            return\n",
    "        if context.tick % rebalance_period != 0:\n",
    "            return\n",
    "\n",
    "        # momentum conditons\n",
    "        prices_200d = history(200, '1d', 'price').dropna()\n",
    "        prices_m = filtering(prices_200d, rebalance_period)\n",
    "        prices_ma_10m = pd.rolling_mean(prices_m, 10)\n",
    "        con1 = prices_m.tail(1) > prices_ma_10m.tail(1)\n",
    "        \n",
    "        # \n",
    "        #con2 = pd.rolling_sum(df_rets_m[t], moving_win) > pd.rolling_sum(df_rets_m[ticker_spy], moving_win)\n",
    "        #con3 = pd.rolling_sum(df_rets_m[t], 1) > (0.05/6)\n",
    "        \n",
    "        # picking up the ETF, which outperforms the SPY\n",
    "        moving_win = 3\n",
    "        print prices_m.loc[:, ticker_spy]\n",
    "        rets_3m = (prices_m / prices_m.shift(moving_win) - 1)\n",
    "        rets_spy_3m = (prices_m[ticker_spy] / prices_m[ticker_spy].shift(moving_win) - 1)\n",
    "        #print rets_3m\n",
    "\n",
    "        # Get rolling window of past prices and compute returns\n",
    "        prices_1d = history(1, '1d', 'price').dropna()\n",
    "        prices_6m = history(120, '1d', 'price').dropna()\n",
    "        returns_6m = prices_6m.pct_change().dropna()\n",
    "\n",
    "        prices_200d = history(200, '1d', 'price').dropna()\n",
    "        ma200 = np.mean(prices_200d)\n",
    "        prices_60d = history(60, '1d', 'price').dropna()\n",
    "        returns_60d = prices_60d.pct_change().dropna()\n",
    "\n",
    "        try:\n",
    "            # Get the strongest 5 in momentum\n",
    "\n",
    "            mom = returns_6m.T.sum(axis=1)\n",
    "            #selected_indices = mom[mom>0].order().tail(len(mom) /2).index\n",
    "            selected_indices = prices_1d[prices_1d > ma200].value\n",
    "            #selected_indices = mom[mom > 0 ].index\n",
    "            selected_returns = returns_60d[selected_indices]\n",
    "\n",
    "            weights = self.minimize_vol(selected_returns.T)\n",
    "    #         weights = minimize_vol(returns_60d.T)\n",
    "            # Rebalance portfolio accordingly\n",
    "            for stock, weight in zip(selected_returns.columns, weights):\n",
    "                order_target_percent(stock, weight)\n",
    "        except :\n",
    "            # Sometimes this error is thrown\n",
    "            # ValueError: Rank(A) < p or Rank([P; A; G]) < n\n",
    "            pass"
   ]
  },
  {
   "cell_type": "code",
   "execution_count": null,
   "metadata": {},
   "outputs": [],
   "source": [
    "dp_sectors = TimeSeries(settings).get_agg_data(sector_tickers)\n",
    "dp_sectors = dp_sectors.fillna(method='pad', axis=0)\n",
    "dp_sectors = dp_sectors.fillna(method='bfill', axis=0)\n",
    "\n",
    "#dp_sectors = dp_sectors[:, '2007-01-01'::, :]\n",
    "\n",
    "#df_avg = ETF_Momentum_Strategy(dp_sectors, ticker_bm, ticker_spy)\n",
    "#(1+df_avg).cumprod().plot(figsize=[20,10])\n",
    "df_avg = Momentum(dp_sectors).run_trading()\n",
    "\n",
    "# settings = Settings()\n",
    "# dp = TimeSeries(settings).get_agg_data(sector_tickers)\n",
    "# dp = dp.fillna(method='pad', axis=0)\n",
    "# dp = dp.fillna(method='bfill', axis=0)\n",
    "\n",
    "# dp = dp[:, '2006-01-01'::, :]\n",
    "\n",
    "# ticker_bm = 'GOOG/NYSEARCA_TLT'\n",
    "# ticker_spy = 'GOOG/NYSE_SPY'\n",
    "    \n",
    "# df_avg = ETF_Momentum_Strategy(dp, ticker_bm, ticker_spy)\n",
    "# (1+df_avg).cumprod().plot(figsize=[20,10])"
   ]
  },
  {
   "cell_type": "code",
   "execution_count": 20,
   "metadata": {},
   "outputs": [
    {
     "name": "stderr",
     "output_type": "stream",
     "text": [
      "/Users/jianboxue/anaconda/lib/python2.7/site-packages/ipykernel/__main__.py:12: SettingWithCopyWarning: \n",
      "A value is trying to be set on a copy of a slice from a DataFrame.\n",
      "Try using .loc[row_indexer,col_indexer] = value instead\n",
      "\n",
      "See the caveats in the documentation: http://pandas.pydata.org/pandas-docs/stable/indexing.html#indexing-view-versus-copy\n",
      "/Users/jianboxue/anaconda/lib/python2.7/site-packages/ipykernel/__main__.py:13: SettingWithCopyWarning: \n",
      "A value is trying to be set on a copy of a slice from a DataFrame.\n",
      "Try using .loc[row_indexer,col_indexer] = value instead\n",
      "\n",
      "See the caveats in the documentation: http://pandas.pydata.org/pandas-docs/stable/indexing.html#indexing-view-versus-copy\n",
      "/Users/jianboxue/anaconda/lib/python2.7/site-packages/ipykernel/__main__.py:15: SettingWithCopyWarning: \n",
      "A value is trying to be set on a copy of a slice from a DataFrame.\n",
      "Try using .loc[row_indexer,col_indexer] = value instead\n",
      "\n",
      "See the caveats in the documentation: http://pandas.pydata.org/pandas-docs/stable/indexing.html#indexing-view-versus-copy\n"
     ]
    },
    {
     "data": {
      "text/plain": [
       "<matplotlib.axes._subplots.AxesSubplot at 0x11ec345d0>"
      ]
     },
     "execution_count": 20,
     "output_type": "execute_result",
     "metadata": {}
    },
    {
     "data": {
      "image/png": "[encoded data removed]"
     },
     "output_type": "display_data",
     "metadata": {}
    }
   ],
   "source": [
    "def filtering(data, f) :\n",
    "    for i in range(len(data)) :\n",
    "        if i%f == 0:\n",
    "            #print i\n",
    "            continue\n",
    "        data.iloc[i, :] = np.NAN\n",
    "    return data.dropna()\n",
    "\n",
    "ticker = global_tickers[7]\n",
    "df_spy = dp_global[:, :, 'price'][[ticker]]\n",
    "df_spy_m = filtering(df_spy, 20)\n",
    "df_spy_m['ma10'] = pd.rolling_mean(df_spy_m[ticker], 10)\n",
    "df_spy_m['ret'] = df_spy[ticker].pct_change()\n",
    "\n",
    "df_spy_m['ret_str'] = df_spy_m['ret'] * (df_spy_m['ma10'] > df_spy_m['ma10'].shift(1)).shift(1)\n",
    "(1+df_spy_m[['ret', 'ret_str']]).cumprod().plot(figsize=[20,12])"
   ]
  },
  {
   "cell_type": "markdown",
   "metadata": {},
   "source": [
    "## 策略1: 年收益如果低于（5％）则投资长期债券， 如果高于5%则投资股票"
   ]
  },
  {
   "cell_type": "code",
   "execution_count": null,
   "metadata": {},
   "outputs": [],
   "source": [
    "ticker_bm = 'GOOG/NYSEARCA_TLT'\n",
    "ticker_target = 9\n",
    "df_str = pd.DataFrame()\n",
    "df_str['1'] = ((df_ret_12m.iloc[:,ticker_target] > 0.05)).shift(1) * df_ret.iloc[:, ticker_target]\n",
    "df_str['2'] = (df_ret_12m.iloc[:,ticker_target] < 0.05).shift(1) * df_ret[ticker_bm]\n",
    "df_str['3'] = df_str['1'] + df_str['2']\n",
    "df_str['target'] = df_ret.iloc[:,ticker_target]\n",
    "(1+df_str).cumprod().plot(figsize=[20,10])"
   ]
  },
  {
   "cell_type": "code",
   "execution_count": null,
   "metadata": {},
   "outputs": [],
   "source": [
    "ticker_bm = 'GOOG/NYSEARCA_TLT'\n",
    "ticker_target = 2\n",
    "price_target = df_m.iloc[:, ticker_target]\n",
    "ret_target = df_ret.iloc[:, ticker_target]\n",
    "df_str = pd.DataFrame()\n",
    "df_str['1'] = ((price_target > pd.rolling_mean(price_target, 10))).shift(1) * ret_target\n",
    "df_str['2'] = (price_target < pd.rolling_mean(price_target, 10)).shift(1) * df_ret[ticker_bm]\n",
    "df_str['3'] = df_str['1'] + df_str['2']\n",
    "df_str['target'] = ret_target\n",
    "(1+df_str).cumprod().plot(figsize=[20,10])"
   ]
  },
  {
   "cell_type": "code",
   "execution_count": null,
   "metadata": {},
   "outputs": [],
   "source": [
    "df_prices = dp[:, :, 'price']\n",
    "#df_prices = df_prices['2005-01-01'::]\n",
    "df_prices_m = df_prices.resample('M')\n",
    "\n",
    "df_rets_m = df_prices_m.pct_change()\n",
    "df_rets_d = df_prices.pct_change()"
   ]
  },
  {
   "cell_type": "code",
   "execution_count": null,
   "metadata": {},
   "outputs": [],
   "source": [
    "df_prices = dp[:,:,'price']\n",
    "\n",
    "df_m = {}\n",
    "df_m['price'] = df_prices.resample('M')\n",
    "df_m['ret'] = df_m['price'].pct_change()\n",
    "df_m = pd.Panel(df_m)\n",
    "\n",
    "tickers = df_m.axes[2]\n",
    "moving_size = 3\n",
    "ticker_bm = 'GOOG/NYSEARCA_TLT'\n",
    "ticker_spy = 'GOOG/NYSE_SPY'\n",
    "\n",
    "\n",
    "df_m['con_10mma'] = df_m['price'] > pd.rolling_mean(df_m['price'], 10)\n",
    "df_con_mma_spy = pd.DataFrame()\n",
    "for t in tickers:\n",
    "    df_con_mma_spy[t] = pd.rolling_sum(df_m['ret'][t], moving_size) > \\\n",
    "        pd.rolling_sum(df_m['ret'][ticker_spy], moving_size)\n",
    "\n",
    "df_m['con_mma_spy'] = df_con_mma_spy\n",
    "df_m['con_3'] = df_m['ret'] > 0\n",
    "df_m['con_comb'] = df_m['con_10mma'] & df_m['con_mma_spy'] & df_m['con_3']\n",
    "    \n",
    "df_m['ret_str1'] = df_m['con_10mma'].shift(1) * df_m['ret']\n",
    "df_m['ret_str2'] = df_m['con_mma_spy'].shift(1) * df_m['ret']\n",
    "df_m['ret_str3'] = df_m['con_3'].shift(1) * df_m['ret']\n",
    "df_m['ret_strcomb'] = df_m['con_comb'].shift(1) * df_m['ret']\n",
    "\n",
    "## Strategies aggregating all the ETFs which satisfy the conditions\n",
    "df_strategy = pd.DataFrame()\n",
    "df_strategy['count_1'] = (df_m['con_10mma'] <> 0).sum(axis=1)\n",
    "df_strategy['count_1'][df_strategy['count_1'] == 0] = 1\n",
    "df_strategy['str1'] = df_m['ret_str1'].sum(axis=1) / df_strategy['count_1'].shift(1)\n",
    "df_strategy['count_2'] = (df_m['con_mma_spy'] <> 0).sum(axis=1)\n",
    "df_strategy['count_2'][df_strategy['count_2'] == 0] = 1\n",
    "df_strategy['str2'] = df_m['ret_str2'].sum(axis=1) / df_strategy['count_2'].shift(1)\n",
    "\n",
    "df_strategy['count_3'] = (df_m['con_3'] <> 0).sum(axis=1)\n",
    "df_strategy['count_3'][df_strategy['count_3'] == 0] = 1\n",
    "df_strategy['str3'] = df_m['ret_str3'].sum(axis=1) / df_strategy['count_3'].shift(1)\n",
    "\n",
    "df_strategy['count_comb'] = (df_m['con_comb'] <>0).sum(axis=1)\n",
    "df_strategy['count_comb'][df_strategy['count_comb'] == 0] = 1\n",
    "df_strategy['str_comb'] = df_m['ret_strcomb'].sum(axis=1) / df_strategy['count_comb'].shift(1)"
   ]
  },
  {
   "cell_type": "code",
   "execution_count": null,
   "metadata": {},
   "outputs": [],
   "source": [
    "(1+df_strategy[['str1','str2', 'str3', 'str_comb']]).cumprod().plot(figsize=[20,12])"
   ]
  },
  {
   "cell_type": "code",
   "execution_count": null,
   "metadata": {},
   "outputs": [],
   "source": [
    "(1+df_m['ret_str3']).cumprod().plot(figsize=[20,10])"
   ]
  },
  {
   "cell_type": "markdown",
   "metadata": {},
   "source": [
    "## Momentum Strategy"
   ]
  },
  {
   "cell_type": "code",
   "execution_count": null,
   "metadata": {},
   "outputs": [],
   "source": [
    "dp[:, :, 'price'].columns"
   ]
  },
  {
   "cell_type": "code",
   "execution_count": null,
   "metadata": {},
   "outputs": [],
   "source": [
    "sector_tickers = [\n",
    "            'GOOG/NYSEARCA_XLB',\n",
    "            'GOOG/NYSEARCA_XLE', \n",
    "            'GOOG/NYSEARCA_XLF',\n",
    "            'GOOG/NYSEARCA_XLI',\n",
    "            'GOOG/NYSEARCA_XLK',\n",
    "            'GOOG/NYSEARCA_XLP', \n",
    "            'GOOG/NYSEARCA_XLU', \n",
    "            'GOOG/NYSEARCA_XLV', \n",
    "            'GOOG/NYSEARCA_XLY', \n",
    "            'GOOG/NYSE_SPY', \n",
    "            'GOOG/NYSEARCA_TLT'\n",
    "            ]\n",
    "\n",
    "\n",
    "settings = Settings()\n",
    "dp = TimeSeries(settings).get_agg_data(sector_tickers)\n",
    "dp = dp.fillna(method='pad', axis=0)\n",
    "dp = dp.fillna(method='bfill', axis=0)\n",
    "\n",
    "dp = dp[:, '2006-01-01'::, :]\n",
    "\n",
    "ticker_bm = 'GOOG/NYSEARCA_TLT'\n",
    "ticker_spy = 'GOOG/NYSE_SPY'\n",
    "    \n",
    "df_avg = ETF_Momentum_Strategy(dp, ticker_bm, ticker_spy)\n",
    "(1+df_avg).cumprod().plot(figsize=[20,10])"
   ]
  },
  {
   "cell_type": "code",
   "execution_count": null,
   "metadata": {},
   "outputs": [],
   "source": [
    "micai_tickers = ['GOOG/NYSE_VWO', \n",
    "                'GOOG/NYSE_VPL', \n",
    "                'GOOG/NYSE_VGK', \n",
    "                'GOOG/NYSE_VTI',\n",
    "                'GOOG/NYSE_BND', #美国债券ETF\n",
    "                'GOOG/AMEX_BWX', #SPDR Barclays Intl Treasury bond etf\n",
    "                'GOOG/NYSEARCA_LQD', #iShares IBoXX & Invest Grade Corp Bond \n",
    "                'GOOG/NYSEARCA_EMB', #iShares JPMorgan Emerging Mkt Bond\n",
    "                'GOOG/NYSE_SPY',\n",
    "                'GOOG/NYSEARCA_TLT']\n",
    "\n",
    "\n",
    "\n",
    "settings = Settings()\n",
    "dp = TimeSeries(settings).get_agg_data(micai_tickers)\n",
    "dp = dp.fillna(method='pad', axis=0)\n",
    "dp = dp.fillna(method='bfill', axis=0)\n",
    "dp = dp[:, '2006-01-01'::, :]\n",
    "\n",
    "ticker_bm = 'GOOG/NYSEARCA_TLT'\n",
    "ticker_spy = 'GOOG/NYSE_SPY'\n",
    "    \n",
    "df_avg = ETF_Momentum_Strategy(dp, ticker_bm, ticker_spy)\n",
    "(1+df_avg).cumprod().plot(figsize=[20,10])"
   ]
  },
  {
   "cell_type": "code",
   "execution_count": null,
   "metadata": {},
   "outputs": [],
   "source": [
    "global_tickers = [\n",
    "           #'GOOG/AMEX_EWJ', # iShares MSCI Japan ETF\n",
    "           'GOOG/NYSE_IEV', # iShares Europe ETF\n",
    "           'GOOG/NYSE_VWO', # Vanguard Emerging Market Stock ETF\n",
    "           \n",
    "           #'GOOG/NYSE_VNQ', # Vanguard MSCI US Reits\n",
    "           'GOOG/NYSE_IYR', # iShares U.S. Real Estate ETF\n",
    "           'GOOG/NYSE_RWX', # SPDR DJ Wilshire Intl Real Estate ETF\n",
    "           \n",
    "           'GOOG/NYSEARCA_TLT',  # 20 Years Treasury ETF\n",
    "           'GOOG/NYSEARCA_TLH',  # 15-20 Years Treasury\n",
    "           \n",
    "           'GOOG/AMEX_GSG', # GSCI Commodity-Indexed Trust Fund\n",
    "           'GOOG/NYSEARCA_GLD',  # SPDR Gold ETF\n",
    "           'GOOG/NYSE_SPY']\n",
    "\n",
    "micai_tickers = ['GOOG/NYSE_VWO', \n",
    "                'GOOG/NYSE_VPL', \n",
    "                'GOOG/NYSE_VGK', \n",
    "                'GOOG/NYSE_VTI',\n",
    "                'GOOG/NYSE_BND', #美国债券ETF\n",
    "                'GOOG/AMEX_BWX', #SPDR Barclays Intl Treasury bond etf\n",
    "                #'GOOG/NYSEARCA_LQD', #iShares IBoXX & Invest Grade Corp Bond \n",
    "                'GOOG/NYSEARCA_EMB', #iShares JPMorgan Emerging Mkt Bond\n",
    "                'GOOG/NYSE_SPY',\n",
    "                'GOOG/NYSEARCA_TLT']\n",
    "\n",
    "\n",
    "tickers = global_tickers   + micai_tickers + sector_tickers \n",
    "settings = Settings()\n",
    "dp = TimeSeries(settings).get_agg_data(tickers)\n",
    "#dp = dp.fillna(method='pad', axis=0)\n",
    "#dp = dp.fillna(method='bfill', axis=0)\n",
    "dp = dp[:, '2006-01-01'::, :]\n",
    "\n",
    "ticker_bm = 'GOOG/NYSEARCA_TLT'\n",
    "ticker_spy = 'GOOG/NYSE_SPY'\n",
    "    \n",
    "df_avg = ETF_Momentum_Strategy(dp, ticker_bm, ticker_spy)\n",
    "(1+df_avg).cumprod().plot(figsize=[20,10])"
   ]
  },
  {
   "cell_type": "code",
   "execution_count": null,
   "metadata": {},
   "outputs": [],
   "source": [
    "df_avg.groupby(df_avg.index.year).sum() * 100"
   ]
  },
  {
   "cell_type": "code",
   "execution_count": null,
   "metadata": {},
   "outputs": [],
   "source": [
    "dp[:,:,'price'].resample('M').pct_change().groupby(dp[:,:,'price'].resample('M').index.year).sum().T*100"
   ]
  },
  {
   "cell_type": "code",
   "execution_count": null,
   "metadata": {},
   "outputs": [],
   "source": [
    "import numpy as np\n",
    "df_avg.mean() * 12"
   ]
  },
  {
   "cell_type": "code",
   "execution_count": null,
   "metadata": {},
   "outputs": [],
   "source": [
    "def custom_resampler(array) :\n",
    "    return array.tail(1)\n",
    "\n",
    "df_price_m = dp[:, :,'price'].resample('20d')\n",
    "df_ret_m = df_price_m.pct_change().dropna()\n",
    "\n",
    "df_str = df_ret_m * (df_ret_m > 0).shift(1)\n",
    "df_str['bm'] = df_ret_m[ticker_spy]\n",
    "(1+df_str).cumprod().plot(figsize=[20, 10])"
   ]
  },
  {
   "cell_type": "code",
   "execution_count": null,
   "metadata": {},
   "outputs": [],
   "source": [
    "df_price_m = dp[:, :,'price'].resample"
   ]
  },
  {
   "cell_type": "code",
   "execution_count": null,
   "metadata": {},
   "outputs": [],
   "source": [
    "dp_price = dp[:, :, 'price'][tickers[2]]\n",
    "#dp_price = dp_price['2005-01-01'::]\n",
    "\n",
    "df_p = pd.DataFrame()\n",
    "df_p['p'] = dp[:,:,'price'][tickers[3]]\n",
    "#df_p['p2'] = dp[:,:,'price'][ticker_spy].resample('M', label='right', closed='right')\n",
    "df_p['p2m'] = pd.rolling_mean(dp[:,:,'price'][ticker_spy], 20)\n",
    "df_p = df_p.dropna()\n",
    "\n",
    "def filtering(data, f) :\n",
    "    for i in range(len(data)) :\n",
    "        if i%f == 0:\n",
    "            #print i\n",
    "            continue\n",
    "        data.iloc[i, :] = np.NAN\n",
    "    return data.dropna()\n",
    "\n",
    "\n",
    "df_p = filtering(df_p, 20)\n",
    "\n",
    "df_r = pd.DataFrame()\n",
    "df_r['p'] = df_p['p'].pct_change()\n",
    "df_r['p_str'] = df_r['p'] * (df_p['p'] > df_p['p'].shift(1)).shift(1)\n",
    "# df_r['p2_str'] = df_r['p'] * (df_p['p2'] > df_p['p2'].shift(1)).shift(1)\n",
    "df_r['p2m_str'] = df_r['p'] * (df_p['p2m'] > df_p['p2m'].shift(1)).shift(1)\n",
    "(1+df_r).cumprod().plot(figsize=[20,8])"
   ]
  },
  {
   "cell_type": "code",
   "execution_count": null,
   "metadata": {},
   "outputs": [],
   "source": [
    "global_tickers = [\n",
    "           #'GOOG/AMEX_EWJ', # iShares MSCI Japan ETF\n",
    "           'GOOG/NYSE_IEV', # iShares Europe ETF\n",
    "           'GOOG/NYSE_VWO', # Vanguard Emerging Market Stock ETF\n",
    "           \n",
    "           #'GOOG/NYSE_VNQ', # Vanguard MSCI US Reits\n",
    "           'GOOG/NYSE_IYR', # iShares U.S. Real Estate ETF\n",
    "           'GOOG/NYSE_RWX', # SPDR DJ Wilshire Intl Real Estate ETF\n",
    "           \n",
    "           'GOOG/NYSEARCA_TLT',  # 20 Years Treasury ETF\n",
    "           'GOOG/NYSEARCA_TLH',  # 15-20 Years Treasury\n",
    "           \n",
    "           'GOOG/AMEX_GSG', # GSCI Commodity-Indexed Trust Fund\n",
    "           'GOOG/NYSEARCA_GLD',  # SPDR Gold ETF\n",
    "           'GOOG/NYSE_SPY']\n",
    "\n",
    "micai_tickers = ['GOOG/NYSE_VWO', \n",
    "                'GOOG/NYSE_VPL', \n",
    "                'GOOG/NYSE_VGK', \n",
    "                'GOOG/NYSE_VTI',\n",
    "                'GOOG/NYSE_BND', #美国债券ETF\n",
    "                'GOOG/AMEX_BWX', #SPDR Barclays Intl Treasury bond etf\n",
    "                #'GOOG/NYSEARCA_LQD', #iShares IBoXX & Invest Grade Corp Bond \n",
    "                'GOOG/NYSEARCA_EMB', #iShares JPMorgan Emerging Mkt Bond\n",
    "                'GOOG/NYSE_SPY',\n",
    "                'GOOG/NYSEARCA_TLT']\n",
    "\n",
    "\n",
    "tickers = global_tickers  # + micai_tickers + sector_tickers \n",
    "settings = Settings()\n",
    "dp = TimeSeries(settings).get_agg_data(tickers)\n",
    "\n",
    "dp_price = dp[:, :, 'price']\n",
    "dp_price = dp_price['2005-03-02'::]\n",
    "\n",
    "#dp_price_f = dp_price.resample('20d')\n",
    "dp_price_f = filtering(dp_price, 20)\n",
    "dp_ret = dp_price_f.pct_change()\n",
    "dp_str = dp_ret * (dp_ret > 0).shift(1)\n",
    "(1+dp_str).cumprod().plot(figsize=[20, 10])"
   ]
  },
  {
   "cell_type": "code",
   "execution_count": null,
   "metadata": {},
   "outputs": [],
   "source": [
    "dp_price = dp[:, :, 'price']\n",
    "dp_price = dp_price.fillna(method='pad')\n",
    "dp_price = dp_price.fillna(method='bfill')\n",
    "dp_price.plot(figsize=[20,10])"
   ]
  },
  {
   "cell_type": "code",
   "execution_count": null,
   "metadata": {},
   "outputs": [],
   "source": [
    "dp_price = dp_price['2007-03-02'::]\n",
    "dp_price_f = filtering(dp_price, 20)\n",
    "\n",
    "dp_ret = pd.DataFrame()\n",
    "#dp_ret['r'] = dp_price[ticker_spy].pct_change()\n",
    "dp_ret['r_f'] = dp_price_f[ticker_spy].pct_change()\n",
    "dp_ret['r_str'] = dp_ret['r_f'] * (dp_ret['r_f'] > 0).shift(1)\n",
    "dp_ret = dp_ret.dropna()\n",
    "\n",
    "(1+dp_ret).cumprod().plot(figsize=[20,10])\n",
    "#dp[:, :, 'price']"
   ]
  },
  {
   "cell_type": "code",
   "execution_count": null,
   "metadata": {},
   "outputs": [],
   "source": [
    "df_r = df_p.pct_change()\n",
    "\n",
    "df_s = df_r  * (df_r > 0).shift(1)\n",
    "# df_s = df_r * (df_r > 0).shift(1)\n",
    "(1+df_s).cumprod().plot()"
   ]
  },
  {
   "cell_type": "code",
   "execution_count": 36,
   "metadata": {},
   "outputs": [
    {
     "ename": "TypeError",
     "evalue": "float() argument must be a string or a number",
     "output_type": "error",
     "traceback": [
      "\u001b[0;31m---------------------------------------------------------------------------\u001b[0m",
      "\u001b[0;31mTypeError\u001b[0m                                 Traceback (most recent call last)",
      "\u001b[0;32m<ipython-input-36-e2371d623189>\u001b[0m in \u001b[0;36m<module>\u001b[0;34m()\u001b[0m\n\u001b[0;32m----> 1\u001b[0;31m \u001b[0mt\u001b[0m \u001b[0;34m=\u001b[0m \u001b[0mfloat\u001b[0m\u001b[0;34m(\u001b[0m\u001b[0mrange\u001b[0m\u001b[0;34m(\u001b[0m\u001b[0;36m100\u001b[0m\u001b[0;34m)\u001b[0m\u001b[0;34m)\u001b[0m\u001b[0;34m\u001b[0m\u001b[0m\n\u001b[0m\u001b[1;32m      2\u001b[0m \u001b[0mst\u001b[0m \u001b[0;34m=\u001b[0m \u001b[0mnp\u001b[0m\u001b[0;34m.\u001b[0m\u001b[0msin\u001b[0m\u001b[0;34m(\u001b[0m\u001b[0mpt\u001b[0m\u001b[0;34m)\u001b[0m\u001b[0;34m\u001b[0m\u001b[0m\n",
      "\u001b[0;31mTypeError\u001b[0m: float() argument must be a string or a number"
     ]
    }
   ],
   "source": [
    "t = float(range(100))\n",
    "st = np.sin(pt)"
   ]
  },
  {
   "cell_type": "code",
   "execution_count": 92,
   "metadata": {},
   "outputs": [],
   "source": [
    "df_test = pd.DataFrame()\n",
    "df_test['t'] = range(10000)\n",
    "df_test['asset'] = np.sin(np.pi / 4000.0 * df_test['t']) + 1000\n",
    "df_test['ret'] = df_test['asset'].pct_change()\n",
    "df_test['ret1'] = df_test['ret'] * (df_test['ret'] > 0).shift(1)\n",
    "df_test['ret2'] = df_test['ret1'] * df_test['ret1'] / df_test['ret1'].max()\n",
    "df_test = df_test.set_index('t')"
   ]
  },
  {
   "cell_type": "code",
   "execution_count": 93,
   "metadata": {},
   "outputs": [
    {
     "data": {
      "text/plain": [
       "<matplotlib.axes._subplots.AxesSubplot at 0x12a451a10>"
      ]
     },
     "execution_count": 93,
     "output_type": "execute_result",
     "metadata": {}
    },
    {
     "data": {
      "image/png": "[encoded data removed]"
     },
     "output_type": "display_data",
     "metadata": {}
    }
   ],
   "source": [
    "(df_test['ret1'] / df_test['ret1'].max()).plot()"
   ]
  },
  {
   "cell_type": "code",
   "execution_count": 94,
   "metadata": {},
   "outputs": [
    {
     "data": {
      "text/plain": [
       "<matplotlib.axes._subplots.AxesSubplot at 0x12a5a4510>"
      ]
     },
     "execution_count": 94,
     "output_type": "execute_result",
     "metadata": {}
    },
    {
     "data": {
      "image/png": "[encoded data removed]"
     },
     "output_type": "display_data",
     "metadata": {}
    }
   ],
   "source": [
    "(1+df_test[['ret', 'ret1', 'ret2']]).cumprod().plot()"
   ]
  },
  {
   "cell_type": "code",
   "execution_count": null,
   "metadata": {},
   "outputs": [],
   "source": [
    ""
   ]
  },
  {
   "cell_type": "code",
   "execution_count": null,
   "metadata": {},
   "outputs": [],
   "source": [
    ""
   ]
  }
 ],
 "metadata": {
  "kernelspec": {
   "display_name": "Python 2",
   "language": "python",
   "name": "python2"
  },
  "language_info": {
   "codemirror_mode": {
    "name": "ipython",
    "version": 2.0
   },
   "file_extension": ".py",
   "mimetype": "text/x-python",
   "name": "python",
   "nbconvert_exporter": "python",
   "pygments_lexer": "ipython2",
   "version": "2.7.11"
  }
 },
 "nbformat": 4,
 "nbformat_minor": 0
}