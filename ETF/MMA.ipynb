{
 "cells": [
  {
   "cell_type": "code",
   "execution_count": 2,
   "metadata": {
    "collapsed": false
   },
   "outputs": [],
   "source": [
    "import sys, os\n",
    "sys.path.append('..')\n",
    "from Data.TimeSeries import *\n",
    "\n",
    "from Data import factors\n",
    "import Quandl\n",
    "import pandas as pd\n",
    "import matplotlib\n",
    "\n",
    "%matplotlib inline"
   ]
  },
  {
   "cell_type": "markdown",
   "metadata": {},
   "source": [
    "## 0. downloading data\n",
    "We download all the ETF data and save them intoa  HDF5 file"
   ]
  },
  {
   "cell_type": "code",
   "execution_count": 5,
   "metadata": {
    "collapsed": false
   },
   "outputs": [],
   "source": [
    "tickers = ['GOOG/NYSE_SPY', #S&P 500 ETF \n",
    "           'GOOG/AMEX_EWJ', # iShares MSCI Japan ETF\n",
    "           'GOOG/NYSE_IEV', # iShares Europe ETF\n",
    "           'GOOG/NYSE_VWO', # Vanguard Emerging Market Stock ETF\n",
    "           \n",
    "           #'GOOG/NYSE_VNQ', # Vanguard MSCI US Reits\n",
    "           'GOOG/NYSE_IYR', # iShares U.S. Real Estate ETF\n",
    "           'GOOG/NYSE_RWX', # SPDR DJ Wilshire Intl Real Estate ETF\n",
    "           \n",
    "           'GOOG/NYSEARCA_TLT',  # 20 Years Treasury ETF\n",
    "           'GOOG/NYSEARCA_TLH',  # 15-20 Years Treasury\n",
    "           \n",
    "           'GOOG/AMEX_GSG', # GSCI Commodity-Indexed Trust Fund\n",
    "           'GOOG/NYSEARCA_GLD',  # SPDR Gold ETF\n",
    "           \n",
    "          ]\n",
    "\n",
    "settings = Settings()\n",
    "df_price, df_ret = TimeSeries(settings).get_agg_data(tickers)\n",
    "    "
   ]
  },
  {
   "cell_type": "markdown",
   "metadata": {},
   "source": [
    "# Testng Trend Following Approach on ETFs\n",
    "##  1. Meb 10 Month MA Strategy\n",
    "meb faber has written a paper illustrating a trend-following strategy: 10 months MA of SPY as the momentum. If the price cross-up or cross-down the 10MMA, buy or sell accordingly. "
   ]
  },
  {
   "cell_type": "code",
   "execution_count": null,
   "metadata": {
    "collapsed": false
   },
   "outputs": [],
   "source": [
    "df_spy_m = Quandl.get('GOOG/NYSE_SPY', collapse='monthly')\n",
    "df_spy_d = Quandl.get('GOOG/NYSE_SPY', collapse='daily')                      "
   ]
  },
  {
   "cell_type": "code",
   "execution_count": null,
   "metadata": {
    "collapsed": false
   },
   "outputs": [],
   "source": [
    "data = pd.DataFrame()\n",
    "\n",
    "data['price'] = df_spy_m['Close']\n",
    "data['10MMA'] = pd.rolling_mean(data['price'], 10)\n",
    "data['ret'] = data['price'].pct_change()\n",
    "data['pos'] = (data['price'] > data['10MMA']).shift(1) * 1 \n",
    "data['ret_ma'] = data['ret'] * (data['price'] > data['10MMA']).shift(1)\n",
    "data = data.dropna()\n",
    "data.index = data.index.tz_localize('UTC')"
   ]
  },
  {
   "cell_type": "code",
   "execution_count": null,
   "metadata": {
    "collapsed": false
   },
   "outputs": [],
   "source": [
    "(1+data[['ret', 'ret_ma']]).cumprod().plot(figsize=[20, 8])"
   ]
  },
  {
   "cell_type": "markdown",
   "metadata": {},
   "source": [
    "As the previous test is on monthly price and return, we cannot see the details within the month. Therefore, we now use daily price/return, together with the position information derived from the 10MMA strategy. "
   ]
  },
  {
   "cell_type": "code",
   "execution_count": null,
   "metadata": {
    "collapsed": false,
    "scrolled": false
   },
   "outputs": [],
   "source": [
    "import pyfolio as py\n",
    "data_d = pd.DataFrame()\n",
    "data_d['price'] = df_spy_d['Close']\n",
    "data_d['ret'] = data_d['price'].pct_change()\n",
    "data_d.index = data_d.index.tz_localize('UTC')\n",
    "\n",
    "data_d = data_d.join(data['pos'], how='outer')\n",
    "data_d = data_d.fillna(method='bfill')\n",
    "data_d['ret_ma'] = data_d['ret'] * data_d['pos']\n",
    "data_d = data_d.dropna()"
   ]
  },
  {
   "cell_type": "code",
   "execution_count": null,
   "metadata": {
    "collapsed": false,
    "scrolled": false
   },
   "outputs": [],
   "source": [
    "(1+data_d[['ret','ret_ma']]).cumprod().plot(figsize=[20, 8])"
   ]
  },
  {
   "cell_type": "code",
   "execution_count": null,
   "metadata": {
    "collapsed": false
   },
   "outputs": [],
   "source": [
    "py.show_perf_stats(data_d['ret_ma'], data_d['ret'])\n",
    "#(data['ret_ma'])"
   ]
  },
  {
   "cell_type": "markdown",
   "metadata": {},
   "source": [
    "## 1.1 ETF Rotation with 10 MMA\n",
    "To extend the 10MMA strategy, we use 2 ETFs: SPY and TLT (20year treasury). When SPY cross-down 10MMA, instead of keeping in cash, we rotate into TLT. "
   ]
  },
  {
   "cell_type": "code",
   "execution_count": null,
   "metadata": {
    "collapsed": false
   },
   "outputs": [],
   "source": [
    "df_tlt = Quandl.get('GOOG/NYSEARCA_TLT')\n",
    "df_tlt.index = df_tlt.index.tz_localize('UTC')"
   ]
  },
  {
   "cell_type": "code",
   "execution_count": null,
   "metadata": {
    "collapsed": false
   },
   "outputs": [],
   "source": [
    "data_11 = pd.DataFrame()\n",
    "data_11['spy'] = data_d['price']\n",
    "data_11.index = data_11.index.tz_convert('UTC')\n",
    "\n",
    "data_11 = data_11.join(df_tlt['Close'], how='inner')\n",
    "data_11 = data_11.rename(columns={'Close':'tlt'})"
   ]
  },
  {
   "cell_type": "code",
   "execution_count": null,
   "metadata": {
    "collapsed": true
   },
   "outputs": [],
   "source": [
    "data_11['ret_spy'] = data_11['spy'].pct_change()\n",
    "data_11['ret_tlt'] = data_11['tlt'].pct_change()\n",
    "data_11['pos'] = data_d['pos']\n",
    "\n",
    "# strategy 1: rotating between SPY and TLT\n",
    "data_11['ret_rotate'] = data_11['ret_spy'] * data_11['pos'] + data_11['ret_tlt'] * (1-data_11['pos'])\n",
    "# Strategy 0: MMA strtegy\n",
    "data_11['ret_spy_ma'] = data_11['ret_spy'] * data_11['pos']\n",
    "# Strategy 2: Equal Weights Portfolio\n",
    "data_11['ret_1/2'] = (data_11['ret_spy']*0.7 + data_11['ret_tlt'] * 0.3) #/ 2"
   ]
  },
  {
   "cell_type": "markdown",
   "metadata": {},
   "source": [
    "we can see in the following figure, the rotation strategy out-perform the rest strategies, which also shows the negative correlation between TLT and SPX\n"
   ]
  },
  {
   "cell_type": "code",
   "execution_count": null,
   "metadata": {
    "collapsed": false
   },
   "outputs": [],
   "source": [
    "(1+data_11[['ret_spy', 'ret_tlt', 'ret_rotate', 'ret_spy_ma', 'ret_1/2']]).cumprod().plot(figsize=[20, 10])"
   ]
  },
  {
   "cell_type": "markdown",
   "metadata": {},
   "source": [
    "## 1.2 SPY, GLD, TLT\n"
   ]
  },
  {
   "cell_type": "code",
   "execution_count": null,
   "metadata": {
    "collapsed": false
   },
   "outputs": [],
   "source": [
    "df_gld = Quandl.get('GOOG/NYSEARCA_GLD')\n",
    "df_gld.index = df_gld.index.tz_localize('UTC')"
   ]
  },
  {
   "cell_type": "code",
   "execution_count": null,
   "metadata": {
    "collapsed": true
   },
   "outputs": [],
   "source": [
    "data_12 = data_11.copy()\n",
    "data_12['gld'] = df_gld['Close']\n",
    "data_12['ret_gld'] = data_12['gld'].pct_change()"
   ]
  },
  {
   "cell_type": "code",
   "execution_count": null,
   "metadata": {
    "collapsed": false
   },
   "outputs": [],
   "source": [
    "data_12['ret_1/3'] = (data_12['ret_gld'] + data_12['ret_spy'] + data_12['ret_tlt'] ) /3\n",
    "data_12 = data_12.dropna()\n",
    "(1+data_12[['ret_1/3', 'ret_1/2', 'ret_spy', 'ret_rotate']]).cumprod().plot(figsize=[20, 10])"
   ]
  },
  {
   "cell_type": "code",
   "execution_count": null,
   "metadata": {
    "collapsed": false
   },
   "outputs": [],
   "source": [
    "data_11"
   ]
  }
 ],
 "metadata": {
  "kernelspec": {
   "display_name": "Python 2",
   "language": "python",
   "name": "python2"
  },
  "language_info": {
   "codemirror_mode": {
    "name": "ipython",
    "version": 2
   },
   "file_extension": ".py",
   "mimetype": "text/x-python",
   "name": "python",
   "nbconvert_exporter": "python",
   "pygments_lexer": "ipython2",
   "version": "2.7.11"
  }
 },
 "nbformat": 4,
 "nbformat_minor": 0
}
